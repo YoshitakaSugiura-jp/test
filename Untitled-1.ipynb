{
 "cells": [
  {
   "cell_type": "code",
   "execution_count": 5,
   "metadata": {},
   "outputs": [
    {
     "data": {
      "text/plain": [
       "23"
      ]
     },
     "metadata": {},
     "output_type": "display_data"
    }
   ],
   "source": [
    "x=5\n",
    "K=(x^2-2)"
   ]
  },
  {
   "cell_type": "code",
   "execution_count": 3,
   "metadata": {},
   "outputs": [],
   "source": [
    "x, y = 2, 3;\n"
   ]
  },
  {
   "cell_type": "code",
   "execution_count": 4,
   "metadata": {},
   "outputs": [
    {
     "data": {
      "text/plain": [
       "(2.8844991406148166, 2.8844991406148166)"
      ]
     },
     "metadata": {},
     "output_type": "display_data"
    }
   ],
   "source": [
    "x∛y, x * ∛y"
   ]
  },
  {
   "cell_type": "code",
   "execution_count": 29,
   "metadata": {},
   "outputs": [
    {
     "data": {
      "image/png": "[encoded data removed]",
      "image/svg+xml": "<?xml version=\"1.0\" encoding=\"utf-8\"?>\n<svg xmlns=\"http://www.w3.org/2000/svg\" xmlns:xlink=\"http://www.w3.org/1999/xlink\" width=\"600\" height=\"400\" viewBox=\"0 0 2400 1600\">\n<defs>\n  <clipPath id=\"clip750\">\n    <rect x=\"0\" y=\"0\" width=\"2400\" height=\"1600\"/>\n  </clipPath>\n</defs>\n<path clip-path=\"url(#clip750)\" d=\"\nM0 1600 L2400 1600 L2400 0 L0 0  Z\n  \" fill=\"#ffffff\" fill-rule=\"evenodd\" fill-opacity=\"1\"/>\n<defs>\n  <clipPath id=\"clip751\">\n    <rect x=\"480\" y=\"0\" width=\"1681\" height=\"1600\"/>\n  </clipPath>\n</defs>\n<path clip-path=\"url(#clip750)\" d=\"\nM186.274 1486.45 L2352.76 1486.45 L2352.76 47.2441 L186.274 47.2441  Z\n  \" fill=\"#ffffff\" fill-rule=\"evenodd\" fill-opacity=\"1\"/>\n<defs>\n  <clipPath id=\"clip752\">\n    <rect x=\"186\" y=\"47\" width=\"2167\" height=\"1440\"/>\n  </clipPath>\n</defs>\n<polyline clip-path=\"url(#clip752)\" style=\"stroke:#000000; stroke-linecap:butt; stroke-linejoin:round; stroke-width:2; stroke-opacity:0.1; fill:none\" points=\"\n  247.59,1486.45 247.59,47.2441 \n  \"/>\n<polyline clip-path=\"url(#clip752)\" style=\"stroke:#000000; stroke-linecap:butt; stroke-linejoin:round; stroke-width:2; stroke-opacity:0.1; fill:none\" points=\"\n  656.36,1486.45 656.36,47.2441 \n  \"/>\n<polyline clip-path=\"url(#clip752)\" style=\"stroke:#000000; stroke-linecap:butt; stroke-linejoin:round; stroke-width:2; stroke-opacity:0.1; fill:none\" points=\"\n  1065.13,1486.45 1065.13,47.2441 \n  \"/>\n<polyline clip-path=\"url(#clip752)\" style=\"stroke:#000000; stroke-linecap:butt; stroke-linejoin:round; stroke-width:2; stroke-opacity:0.1; fill:none\" points=\"\n  1473.9,1486.45 1473.9,47.2441 \n  \"/>\n<polyline clip-path=\"url(#clip752)\" style=\"stroke:#000000; stroke-linecap:butt; stroke-linejoin:round; stroke-width:2; stroke-opacity:0.1; fill:none\" points=\"\n  1882.67,1486.45 1882.67,47.2441 \n  \"/>\n<polyline clip-path=\"url(#clip752)\" style=\"stroke:#000000; stroke-linecap:butt; stroke-linejoin:round; stroke-width:2; stroke-opacity:0.1; fill:none\" points=\"\n  2291.44,1486.45 2291.44,47.2441 \n  \"/>\n<polyline clip-path=\"url(#clip750)\" style=\"stroke:#000000; stroke-linecap:butt; stroke-linejoin:round; stroke-width:4; stroke-opacity:1; fill:none\" points=\"\n  186.274,1486.45 2352.76,1486.45 \n  \"/>\n<polyline clip-path=\"url(#clip750)\" style=\"stroke:#000000; stroke-linecap:butt; stroke-linejoin:round; stroke-width:4; stroke-opacity:1; fill:none\" points=\"\n  247.59,1486.45 247.59,1467.55 \n  \"/>\n<polyline clip-path=\"url(#clip750)\" style=\"stroke:#000000; stroke-linecap:butt; stroke-linejoin:round; stroke-width:4; stroke-opacity:1; fill:none\" points=\"\n  656.36,1486.45 656.36,1467.55 \n  \"/>\n<polyline clip-path=\"url(#clip750)\" style=\"stroke:#000000; stroke-linecap:butt; stroke-linejoin:round; stroke-width:4; stroke-opacity:1; fill:none\" points=\"\n  1065.13,1486.45 1065.13,1467.55 \n  \"/>\n<polyline clip-path=\"url(#clip750)\" style=\"stroke:#000000; stroke-linecap:butt; stroke-linejoin:round; stroke-width:4; stroke-opacity:1; fill:none\" points=\"\n  1473.9,1486.45 1473.9,1467.55 \n  \"/>\n<polyline clip-path=\"url(#clip750)\" style=\"stroke:#000000; stroke-linecap:butt; stroke-linejoin:round; stroke-width:4; stroke-opacity:1; fill:none\" points=\"\n  1882.67,1486.45 1882.67,1467.55 \n  \"/>\n<polyline clip-path=\"url(#clip750)\" style=\"stroke:#000000; stroke-linecap:butt; stroke-linejoin:round; stroke-width:4; stroke-opacity:1; fill:none\" points=\"\n  2291.44,1486.45 2291.44,1467.55 \n  \"/>\n<path clip-path=\"url(#clip750)\" d=\"M247.59 1517.37 Q243.978 1517.37 242.15 1520.93 Q240.344 1524.47 240.344 1531.6 Q240.344 1538.71 242.15 1542.27 Q243.978 1545.82 247.59 1545.82 Q251.224 1545.82 253.029 1542.27 Q254.858 1538.71 254.858 1531.6 Q254.858 1524.47 253.029 1520.93 Q251.224 1517.37 247.59 1517.37 M247.59 1513.66 Q253.4 1513.66 256.455 1518.27 Q259.534 1522.85 259.534 1531.6 Q259.534 1540.33 256.455 1544.94 Q253.4 1549.52 247.59 1549.52 Q241.779 1549.52 238.701 1544.94 Q235.645 1540.33 235.645 1531.6 Q235.645 1522.85 238.701 1518.27 Q241.779 1513.66 247.59 1513.66 Z\" fill=\"#000000\" fill-rule=\"evenodd\" fill-opacity=\"1\" /><path clip-path=\"url(#clip750)\" d=\"M646.742 1544.91 L654.381 1544.91 L654.381 1518.55 L646.07 1520.21 L646.07 1515.95 L654.334 1514.29 L659.01 1514.29 L659.01 1544.91 L666.649 1544.91 L666.649 1548.85 L646.742 1548.85 L646.742 1544.91 Z\" fill=\"#000000\" fill-rule=\"evenodd\" fill-opacity=\"1\" /><path clip-path=\"url(#clip750)\" d=\"M1059.78 1544.91 L1076.1 1544.91 L1076.1 1548.85 L1054.16 1548.85 L1054.16 1544.91 Q1056.82 1542.16 1061.4 1537.53 Q1066.01 1532.88 1067.19 1531.53 Q1069.44 1529.01 1070.32 1527.27 Q1071.22 1525.51 1071.22 1523.82 Q1071.22 1521.07 1069.27 1519.33 Q1067.35 1517.6 1064.25 1517.6 Q1062.05 1517.6 1059.6 1518.36 Q1057.17 1519.13 1054.39 1520.68 L1054.39 1515.95 Q1057.21 1514.82 1059.67 1514.24 Q1062.12 1513.66 1064.16 1513.66 Q1069.53 1513.66 1072.72 1516.35 Q1075.92 1519.03 1075.92 1523.52 Q1075.92 1525.65 1075.11 1527.57 Q1074.32 1529.47 1072.21 1532.07 Q1071.63 1532.74 1068.53 1535.95 Q1065.43 1539.15 1059.78 1544.91 Z\" fill=\"#000000\" fill-rule=\"evenodd\" fill-opacity=\"1\" /><path clip-path=\"url(#clip750)\" d=\"M1478.15 1530.21 Q1481.5 1530.93 1483.38 1533.2 Q1485.28 1535.47 1485.28 1538.8 Q1485.28 1543.92 1481.76 1546.72 Q1478.24 1549.52 1471.76 1549.52 Q1469.58 1549.52 1467.27 1549.08 Q1464.98 1548.66 1462.52 1547.81 L1462.52 1543.29 Q1464.47 1544.43 1466.78 1545.01 Q1469.1 1545.58 1471.62 1545.58 Q1476.02 1545.58 1478.31 1543.85 Q1480.62 1542.11 1480.62 1538.8 Q1480.62 1535.75 1478.47 1534.03 Q1476.34 1532.3 1472.52 1532.3 L1468.49 1532.3 L1468.49 1528.45 L1472.71 1528.45 Q1476.16 1528.45 1477.99 1527.09 Q1479.81 1525.7 1479.81 1523.11 Q1479.81 1520.45 1477.92 1519.03 Q1476.04 1517.6 1472.52 1517.6 Q1470.6 1517.6 1468.4 1518.01 Q1466.2 1518.43 1463.56 1519.31 L1463.56 1515.14 Q1466.23 1514.4 1468.54 1514.03 Q1470.88 1513.66 1472.94 1513.66 Q1478.26 1513.66 1481.37 1516.09 Q1484.47 1518.5 1484.47 1522.62 Q1484.47 1525.49 1482.82 1527.48 Q1481.18 1529.45 1478.15 1530.21 Z\" fill=\"#000000\" fill-rule=\"evenodd\" fill-opacity=\"1\" /><path clip-path=\"url(#clip750)\" d=\"M1885.68 1518.36 L1873.87 1536.81 L1885.68 1536.81 L1885.68 1518.36 M1884.45 1514.29 L1890.33 1514.29 L1890.33 1536.81 L1895.26 1536.81 L1895.26 1540.7 L1890.33 1540.7 L1890.33 1548.85 L1885.68 1548.85 L1885.68 1540.7 L1870.08 1540.7 L1870.08 1536.19 L1884.45 1514.29 Z\" fill=\"#000000\" fill-rule=\"evenodd\" fill-opacity=\"1\" /><path clip-path=\"url(#clip750)\" d=\"M2281.72 1514.29 L2300.07 1514.29 L2300.07 1518.22 L2286 1518.22 L2286 1526.7 Q2287.02 1526.35 2288.04 1526.19 Q2289.06 1526 2290.07 1526 Q2295.86 1526 2299.24 1529.17 Q2302.62 1532.34 2302.62 1537.76 Q2302.62 1543.34 2299.15 1546.44 Q2295.68 1549.52 2289.36 1549.52 Q2287.18 1549.52 2284.91 1549.15 Q2282.67 1548.78 2280.26 1548.04 L2280.26 1543.34 Q2282.34 1544.47 2284.57 1545.03 Q2286.79 1545.58 2289.26 1545.58 Q2293.27 1545.58 2295.61 1543.48 Q2297.94 1541.37 2297.94 1537.76 Q2297.94 1534.15 2295.61 1532.04 Q2293.27 1529.94 2289.26 1529.94 Q2287.39 1529.94 2285.51 1530.35 Q2283.66 1530.77 2281.72 1531.65 L2281.72 1514.29 Z\" fill=\"#000000\" fill-rule=\"evenodd\" fill-opacity=\"1\" /><polyline clip-path=\"url(#clip752)\" style=\"stroke:#000000; stroke-linecap:butt; stroke-linejoin:round; stroke-width:2; stroke-opacity:0.1; fill:none\" points=\"\n  186.274,1445.72 2352.76,1445.72 \n  \"/>\n<polyline clip-path=\"url(#clip752)\" style=\"stroke:#000000; stroke-linecap:butt; stroke-linejoin:round; stroke-width:2; stroke-opacity:0.1; fill:none\" points=\"\n  186.274,1117.25 2352.76,1117.25 \n  \"/>\n<polyline clip-path=\"url(#clip752)\" style=\"stroke:#000000; stroke-linecap:butt; stroke-linejoin:round; stroke-width:2; stroke-opacity:0.1; fill:none\" points=\"\n  186.274,788.782 2352.76,788.782 \n  \"/>\n<polyline clip-path=\"url(#clip752)\" style=\"stroke:#000000; stroke-linecap:butt; stroke-linejoin:round; stroke-width:2; stroke-opacity:0.1; fill:none\" points=\"\n  186.274,460.315 2352.76,460.315 \n  \"/>\n<polyline clip-path=\"url(#clip752)\" style=\"stroke:#000000; stroke-linecap:butt; stroke-linejoin:round; stroke-width:2; stroke-opacity:0.1; fill:none\" points=\"\n  186.274,131.848 2352.76,131.848 \n  \"/>\n<polyline clip-path=\"url(#clip750)\" style=\"stroke:#000000; stroke-linecap:butt; stroke-linejoin:round; stroke-width:4; stroke-opacity:1; fill:none\" points=\"\n  186.274,1486.45 186.274,47.2441 \n  \"/>\n<polyline clip-path=\"url(#clip750)\" style=\"stroke:#000000; stroke-linecap:butt; stroke-linejoin:round; stroke-width:4; stroke-opacity:1; fill:none\" points=\"\n  186.274,1445.72 205.172,1445.72 \n  \"/>\n<polyline clip-path=\"url(#clip750)\" style=\"stroke:#000000; stroke-linecap:butt; stroke-linejoin:round; stroke-width:4; stroke-opacity:1; fill:none\" points=\"\n  186.274,1117.25 205.172,1117.25 \n  \"/>\n<polyline clip-path=\"url(#clip750)\" style=\"stroke:#000000; stroke-linecap:butt; stroke-linejoin:round; stroke-width:4; stroke-opacity:1; fill:none\" points=\"\n  186.274,788.782 205.172,788.782 \n  \"/>\n<polyline clip-path=\"url(#clip750)\" style=\"stroke:#000000; stroke-linecap:butt; stroke-linejoin:round; stroke-width:4; stroke-opacity:1; fill:none\" points=\"\n  186.274,460.315 205.172,460.315 \n  \"/>\n<polyline clip-path=\"url(#clip750)\" style=\"stroke:#000000; stroke-linecap:butt; stroke-linejoin:round; stroke-width:4; stroke-opacity:1; fill:none\" points=\"\n  186.274,131.848 205.172,131.848 \n  \"/>\n<path clip-path=\"url(#clip750)\" d=\"M62.9365 1431.51 Q59.3254 1431.51 57.4967 1435.08 Q55.6912 1438.62 55.6912 1445.75 Q55.6912 1452.86 57.4967 1456.42 Q59.3254 1459.96 62.9365 1459.96 Q66.5707 1459.96 68.3763 1456.42 Q70.205 1452.86 70.205 1445.75 Q70.205 1438.62 68.3763 1435.08 Q66.5707 1431.51 62.9365 1431.51 M62.9365 1427.81 Q68.7467 1427.81 71.8022 1432.42 Q74.8809 1437 74.8809 1445.75 Q74.8809 1454.48 71.8022 1459.08 Q68.7467 1463.67 62.9365 1463.67 Q57.1264 1463.67 54.0477 1459.08 Q50.9921 1454.48 50.9921 1445.75 Q50.9921 1437 54.0477 1432.42 Q57.1264 1427.81 62.9365 1427.81 Z\" fill=\"#000000\" fill-rule=\"evenodd\" fill-opacity=\"1\" /><path clip-path=\"url(#clip750)\" d=\"M83.0984 1457.12 L87.9827 1457.12 L87.9827 1463 L83.0984 1463 L83.0984 1457.12 Z\" fill=\"#000000\" fill-rule=\"evenodd\" fill-opacity=\"1\" /><path clip-path=\"url(#clip750)\" d=\"M108.168 1431.51 Q104.557 1431.51 102.728 1435.08 Q100.922 1438.62 100.922 1445.75 Q100.922 1452.86 102.728 1456.42 Q104.557 1459.96 108.168 1459.96 Q111.802 1459.96 113.608 1456.42 Q115.436 1452.86 115.436 1445.75 Q115.436 1438.62 113.608 1435.08 Q111.802 1431.51 108.168 1431.51 M108.168 1427.81 Q113.978 1427.81 117.033 1432.42 Q120.112 1437 120.112 1445.75 Q120.112 1454.48 117.033 1459.08 Q113.978 1463.67 108.168 1463.67 Q102.358 1463.67 99.2789 1459.08 Q96.2234 1454.48 96.2234 1445.75 Q96.2234 1437 99.2789 1432.42 Q102.358 1427.81 108.168 1427.81 Z\" fill=\"#000000\" fill-rule=\"evenodd\" fill-opacity=\"1\" /><path clip-path=\"url(#clip750)\" d=\"M138.33 1431.51 Q134.719 1431.51 132.89 1435.08 Q131.084 1438.62 131.084 1445.75 Q131.084 1452.86 132.89 1456.42 Q134.719 1459.96 138.33 1459.96 Q141.964 1459.96 143.769 1456.42 Q145.598 1452.86 145.598 1445.75 Q145.598 1438.62 143.769 1435.08 Q141.964 1431.51 138.33 1431.51 M138.33 1427.81 Q144.14 1427.81 147.195 1432.42 Q150.274 1437 150.274 1445.75 Q150.274 1454.48 147.195 1459.08 Q144.14 1463.67 138.33 1463.67 Q132.519 1463.67 129.441 1459.08 Q126.385 1454.48 126.385 1445.75 Q126.385 1437 129.441 1432.42 Q132.519 1427.81 138.33 1427.81 Z\" fill=\"#000000\" fill-rule=\"evenodd\" fill-opacity=\"1\" /><path clip-path=\"url(#clip750)\" d=\"M63.9319 1103.05 Q60.3208 1103.05 58.4921 1106.61 Q56.6865 1110.15 56.6865 1117.28 Q56.6865 1124.39 58.4921 1127.95 Q60.3208 1131.5 63.9319 1131.5 Q67.5661 1131.5 69.3717 1127.95 Q71.2004 1124.39 71.2004 1117.28 Q71.2004 1110.15 69.3717 1106.61 Q67.5661 1103.05 63.9319 1103.05 M63.9319 1099.34 Q69.742 1099.34 72.7976 1103.95 Q75.8763 1108.53 75.8763 1117.28 Q75.8763 1126.01 72.7976 1130.62 Q69.742 1135.2 63.9319 1135.2 Q58.1217 1135.2 55.043 1130.62 Q51.9875 1126.01 51.9875 1117.28 Q51.9875 1108.53 55.043 1103.95 Q58.1217 1099.34 63.9319 1099.34 Z\" fill=\"#000000\" fill-rule=\"evenodd\" fill-opacity=\"1\" /><path clip-path=\"url(#clip750)\" d=\"M84.0938 1128.65 L88.978 1128.65 L88.978 1134.53 L84.0938 1134.53 L84.0938 1128.65 Z\" fill=\"#000000\" fill-rule=\"evenodd\" fill-opacity=\"1\" /><path clip-path=\"url(#clip750)\" d=\"M103.191 1130.59 L119.51 1130.59 L119.51 1134.53 L97.566 1134.53 L97.566 1130.59 Q100.228 1127.84 104.811 1123.21 Q109.418 1118.56 110.598 1117.21 Q112.844 1114.69 113.723 1112.95 Q114.626 1111.2 114.626 1109.51 Q114.626 1106.75 112.682 1105.01 Q110.76 1103.28 107.658 1103.28 Q105.459 1103.28 103.006 1104.04 Q100.575 1104.81 97.7974 1106.36 L97.7974 1101.64 Q100.621 1100.5 103.075 1099.92 Q105.529 1099.34 107.566 1099.34 Q112.936 1099.34 116.131 1102.03 Q119.325 1104.71 119.325 1109.2 Q119.325 1111.33 118.515 1113.26 Q117.728 1115.15 115.621 1117.75 Q115.043 1118.42 111.941 1121.64 Q108.839 1124.83 103.191 1130.59 Z\" fill=\"#000000\" fill-rule=\"evenodd\" fill-opacity=\"1\" /><path clip-path=\"url(#clip750)\" d=\"M129.371 1099.97 L147.728 1099.97 L147.728 1103.9 L133.654 1103.9 L133.654 1112.38 Q134.672 1112.03 135.691 1111.87 Q136.709 1111.68 137.728 1111.68 Q143.515 1111.68 146.894 1114.85 Q150.274 1118.02 150.274 1123.44 Q150.274 1129.02 146.802 1132.12 Q143.33 1135.2 137.01 1135.2 Q134.834 1135.2 132.566 1134.83 Q130.32 1134.46 127.913 1133.72 L127.913 1129.02 Q129.996 1130.15 132.219 1130.71 Q134.441 1131.26 136.918 1131.26 Q140.922 1131.26 143.26 1129.16 Q145.598 1127.05 145.598 1123.44 Q145.598 1119.83 143.26 1117.72 Q140.922 1115.62 136.918 1115.62 Q135.043 1115.62 133.168 1116.03 Q131.316 1116.45 129.371 1117.33 L129.371 1099.97 Z\" fill=\"#000000\" fill-rule=\"evenodd\" fill-opacity=\"1\" /><path clip-path=\"url(#clip750)\" d=\"M62.9365 774.58 Q59.3254 774.58 57.4967 778.145 Q55.6912 781.687 55.6912 788.816 Q55.6912 795.923 57.4967 799.488 Q59.3254 803.029 62.9365 803.029 Q66.5707 803.029 68.3763 799.488 Q70.205 795.923 70.205 788.816 Q70.205 781.687 68.3763 778.145 Q66.5707 774.58 62.9365 774.58 M62.9365 770.877 Q68.7467 770.877 71.8022 775.483 Q74.8809 780.066 74.8809 788.816 Q74.8809 797.543 71.8022 802.15 Q68.7467 806.733 62.9365 806.733 Q57.1264 806.733 54.0477 802.15 Q50.9921 797.543 50.9921 788.816 Q50.9921 780.066 54.0477 775.483 Q57.1264 770.877 62.9365 770.877 Z\" fill=\"#000000\" fill-rule=\"evenodd\" fill-opacity=\"1\" /><path clip-path=\"url(#clip750)\" d=\"M83.0984 800.182 L87.9827 800.182 L87.9827 806.062 L83.0984 806.062 L83.0984 800.182 Z\" fill=\"#000000\" fill-rule=\"evenodd\" fill-opacity=\"1\" /><path clip-path=\"url(#clip750)\" d=\"M98.2141 771.502 L116.57 771.502 L116.57 775.437 L102.496 775.437 L102.496 783.909 Q103.515 783.562 104.534 783.4 Q105.552 783.215 106.571 783.215 Q112.358 783.215 115.737 786.386 Q119.117 789.557 119.117 794.974 Q119.117 800.552 115.645 803.654 Q112.172 806.733 105.853 806.733 Q103.677 806.733 101.409 806.363 Q99.1632 805.992 96.7558 805.252 L96.7558 800.552 Q98.8391 801.687 101.061 802.242 Q103.284 802.798 105.76 802.798 Q109.765 802.798 112.103 800.691 Q114.441 798.585 114.441 794.974 Q114.441 791.363 112.103 789.256 Q109.765 787.15 105.76 787.15 Q103.885 787.15 102.01 787.566 Q100.159 787.983 98.2141 788.863 L98.2141 771.502 Z\" fill=\"#000000\" fill-rule=\"evenodd\" fill-opacity=\"1\" /><path clip-path=\"url(#clip750)\" d=\"M138.33 774.58 Q134.719 774.58 132.89 778.145 Q131.084 781.687 131.084 788.816 Q131.084 795.923 132.89 799.488 Q134.719 803.029 138.33 803.029 Q141.964 803.029 143.769 799.488 Q145.598 795.923 145.598 788.816 Q145.598 781.687 143.769 778.145 Q141.964 774.58 138.33 774.58 M138.33 770.877 Q144.14 770.877 147.195 775.483 Q150.274 780.066 150.274 788.816 Q150.274 797.543 147.195 802.15 Q144.14 806.733 138.33 806.733 Q132.519 806.733 129.441 802.15 Q126.385 797.543 126.385 788.816 Q126.385 780.066 129.441 775.483 Q132.519 770.877 138.33 770.877 Z\" fill=\"#000000\" fill-rule=\"evenodd\" fill-opacity=\"1\" /><path clip-path=\"url(#clip750)\" d=\"M63.9319 446.113 Q60.3208 446.113 58.4921 449.678 Q56.6865 453.22 56.6865 460.349 Q56.6865 467.456 58.4921 471.021 Q60.3208 474.562 63.9319 474.562 Q67.5661 474.562 69.3717 471.021 Q71.2004 467.456 71.2004 460.349 Q71.2004 453.22 69.3717 449.678 Q67.5661 446.113 63.9319 446.113 M63.9319 442.41 Q69.742 442.41 72.7976 447.016 Q75.8763 451.599 75.8763 460.349 Q75.8763 469.076 72.7976 473.683 Q69.742 478.266 63.9319 478.266 Q58.1217 478.266 55.043 473.683 Q51.9875 469.076 51.9875 460.349 Q51.9875 451.599 55.043 447.016 Q58.1217 442.41 63.9319 442.41 Z\" fill=\"#000000\" fill-rule=\"evenodd\" fill-opacity=\"1\" /><path clip-path=\"url(#clip750)\" d=\"M84.0938 471.715 L88.978 471.715 L88.978 477.595 L84.0938 477.595 L84.0938 471.715 Z\" fill=\"#000000\" fill-rule=\"evenodd\" fill-opacity=\"1\" /><path clip-path=\"url(#clip750)\" d=\"M97.9826 443.035 L120.205 443.035 L120.205 445.025 L107.658 477.595 L102.774 477.595 L114.58 446.97 L97.9826 446.97 L97.9826 443.035 Z\" fill=\"#000000\" fill-rule=\"evenodd\" fill-opacity=\"1\" /><path clip-path=\"url(#clip750)\" d=\"M129.371 443.035 L147.728 443.035 L147.728 446.97 L133.654 446.97 L133.654 455.442 Q134.672 455.095 135.691 454.933 Q136.709 454.748 137.728 454.748 Q143.515 454.748 146.894 457.919 Q150.274 461.09 150.274 466.507 Q150.274 472.085 146.802 475.187 Q143.33 478.266 137.01 478.266 Q134.834 478.266 132.566 477.896 Q130.32 477.525 127.913 476.785 L127.913 472.085 Q129.996 473.22 132.219 473.775 Q134.441 474.331 136.918 474.331 Q140.922 474.331 143.26 472.224 Q145.598 470.118 145.598 466.507 Q145.598 462.896 143.26 460.789 Q140.922 458.683 136.918 458.683 Q135.043 458.683 133.168 459.099 Q131.316 459.516 129.371 460.396 L129.371 443.035 Z\" fill=\"#000000\" fill-rule=\"evenodd\" fill-opacity=\"1\" /><path clip-path=\"url(#clip750)\" d=\"M53.7467 145.193 L61.3856 145.193 L61.3856 118.827 L53.0754 120.494 L53.0754 116.234 L61.3393 114.568 L66.0152 114.568 L66.0152 145.193 L73.654 145.193 L73.654 149.128 L53.7467 149.128 L53.7467 145.193 Z\" fill=\"#000000\" fill-rule=\"evenodd\" fill-opacity=\"1\" /><path clip-path=\"url(#clip750)\" d=\"M83.0984 143.248 L87.9827 143.248 L87.9827 149.128 L83.0984 149.128 L83.0984 143.248 Z\" fill=\"#000000\" fill-rule=\"evenodd\" fill-opacity=\"1\" /><path clip-path=\"url(#clip750)\" d=\"M108.168 117.646 Q104.557 117.646 102.728 121.211 Q100.922 124.753 100.922 131.882 Q100.922 138.989 102.728 142.554 Q104.557 146.095 108.168 146.095 Q111.802 146.095 113.608 142.554 Q115.436 138.989 115.436 131.882 Q115.436 124.753 113.608 121.211 Q111.802 117.646 108.168 117.646 M108.168 113.943 Q113.978 113.943 117.033 118.549 Q120.112 123.132 120.112 131.882 Q120.112 140.609 117.033 145.216 Q113.978 149.799 108.168 149.799 Q102.358 149.799 99.2789 145.216 Q96.2234 140.609 96.2234 131.882 Q96.2234 123.132 99.2789 118.549 Q102.358 113.943 108.168 113.943 Z\" fill=\"#000000\" fill-rule=\"evenodd\" fill-opacity=\"1\" /><path clip-path=\"url(#clip750)\" d=\"M138.33 117.646 Q134.719 117.646 132.89 121.211 Q131.084 124.753 131.084 131.882 Q131.084 138.989 132.89 142.554 Q134.719 146.095 138.33 146.095 Q141.964 146.095 143.769 142.554 Q145.598 138.989 145.598 131.882 Q145.598 124.753 143.769 121.211 Q141.964 117.646 138.33 117.646 M138.33 113.943 Q144.14 113.943 147.195 118.549 Q150.274 123.132 150.274 131.882 Q150.274 140.609 147.195 145.216 Q144.14 149.799 138.33 149.799 Q132.519 149.799 129.441 145.216 Q126.385 140.609 126.385 131.882 Q126.385 123.132 129.441 118.549 Q132.519 113.943 138.33 113.943 Z\" fill=\"#000000\" fill-rule=\"evenodd\" fill-opacity=\"1\" /><polyline clip-path=\"url(#clip752)\" style=\"stroke:#009af9; stroke-linecap:butt; stroke-linejoin:round; stroke-width:4; stroke-opacity:1; fill:none\" points=\"\n  247.59,1445.72 247.797,320.241 248.005,304.208 248.213,294.723 248.421,287.945 248.629,282.661 248.837,278.325 249.045,274.647 249.253,271.451 249.669,266.091 \n  250.085,261.694 250.5,257.963 250.916,254.722 251.748,249.286 252.579,244.826 253.411,241.042 254.243,237.755 255.906,232.241 257.569,227.718 259.233,223.88 \n  260.896,220.546 268.586,209.088 276.276,201.188 283.966,195.141 291.656,190.237 307.036,182.543 322.415,176.597 353.175,167.647 383.935,160.961 420.905,154.655 \n  457.876,149.55 489.134,145.879 520.392,142.647 588.302,136.722 650.909,132.208 718.031,128.074 795.798,123.954 864.908,120.748 925.511,118.213 991.585,115.691 \n  1058.05,113.366 1131.54,111.004 1201.46,108.929 1274.16,106.924 1335.36,105.34 1410.08,103.522 1478.52,101.954 1541.74,100.58 1605.77,99.2535 1677.54,97.8378 \n  1742.57,96.6139 1817.03,95.275 1885.97,94.0897 1953.93,92.9681 2019.92,91.9201 2087.57,90.8848 2161.69,89.7925 2269.35,88.2773 2291.44,87.9763 \n  \"/>\n<path clip-path=\"url(#clip750)\" d=\"\nM1987.39 198.898 L2280.54 198.898 L2280.54 95.2176 L1987.39 95.2176  Z\n  \" fill=\"#ffffff\" fill-rule=\"evenodd\" fill-opacity=\"1\"/>\n<polyline clip-path=\"url(#clip750)\" style=\"stroke:#000000; stroke-linecap:butt; stroke-linejoin:round; stroke-width:4; stroke-opacity:1; fill:none\" points=\"\n  1987.39,198.898 2280.54,198.898 2280.54,95.2176 1987.39,95.2176 1987.39,198.898 \n  \"/>\n<polyline clip-path=\"url(#clip750)\" style=\"stroke:#009af9; stroke-linecap:butt; stroke-linejoin:round; stroke-width:4; stroke-opacity:1; fill:none\" points=\"\n  2011.46,147.058 2155.89,147.058 \n  \"/>\n<path clip-path=\"url(#clip750)\" d=\"M2193.81 166.745 Q2192 171.375 2190.29 172.787 Q2188.58 174.199 2185.71 174.199 L2182.3 174.199 L2182.3 170.634 L2184.8 170.634 Q2186.56 170.634 2187.53 169.8 Q2188.51 168.967 2189.69 165.865 L2190.45 163.921 L2179.97 138.412 L2184.48 138.412 L2192.58 158.689 L2200.68 138.412 L2205.2 138.412 L2193.81 166.745 Z\" fill=\"#000000\" fill-rule=\"evenodd\" fill-opacity=\"1\" /><path clip-path=\"url(#clip750)\" d=\"M2212.49 160.402 L2220.13 160.402 L2220.13 134.037 L2211.82 135.703 L2211.82 131.444 L2220.08 129.778 L2224.76 129.778 L2224.76 160.402 L2232.4 160.402 L2232.4 164.338 L2212.49 164.338 L2212.49 160.402 Z\" fill=\"#000000\" fill-rule=\"evenodd\" fill-opacity=\"1\" /></svg>\n",
      "text/html": [
       "<?xml version=\"1.0\" encoding=\"utf-8\"?>\n",
       "<svg xmlns=\"http://www.w3.org/2000/svg\" xmlns:xlink=\"http://www.w3.org/1999/xlink\" width=\"600\" height=\"400\" viewBox=\"0 0 2400 1600\">\n",
       "<defs>\n",
       "  <clipPath id=\"clip800\">\n",
       "    <rect x=\"0\" y=\"0\" width=\"2400\" height=\"1600\"/>\n",
       "  </clipPath>\n",
       "</defs>\n",
       "<path clip-path=\"url(#clip800)\" d=\"\n",
       "M0 1600 L2400 1600 L2400 0 L0 0  Z\n",
       "  \" fill=\"#ffffff\" fill-rule=\"evenodd\" fill-opacity=\"1\"/>\n",
       "<defs>\n",
       "  <clipPath id=\"clip801\">\n",
       "    <rect x=\"480\" y=\"0\" width=\"1681\" height=\"1600\"/>\n",
       "  </clipPath>\n",
       "</defs>\n",
       "<path clip-path=\"url(#clip800)\" d=\"\n",
       "M186.274 1486.45 L2352.76 1486.45 L2352.76 47.2441 L186.274 47.2441  Z\n",
       "  \" fill=\"#ffffff\" fill-rule=\"evenodd\" fill-opacity=\"1\"/>\n",
       "<defs>\n",
       "  <clipPath id=\"clip802\">\n",
       "    <rect x=\"186\" y=\"47\" width=\"2167\" height=\"1440\"/>\n",
       "  </clipPath>\n",
       "</defs>\n",
       "<polyline clip-path=\"url(#clip802)\" style=\"stroke:#000000; stroke-linecap:butt; stroke-linejoin:round; stroke-width:2; stroke-opacity:0.1; fill:none\" points=\"\n",
       "  247.59,1486.45 247.59,47.2441 \n",
       "  \"/>\n",
       "<polyline clip-path=\"url(#clip802)\" style=\"stroke:#000000; stroke-linecap:butt; stroke-linejoin:round; stroke-width:2; stroke-opacity:0.1; fill:none\" points=\"\n",
       "  656.36,1486.45 656.36,47.2441 \n",
       "  \"/>\n",
       "<polyline clip-path=\"url(#clip802)\" style=\"stroke:#000000; stroke-linecap:butt; stroke-linejoin:round; stroke-width:2; stroke-opacity:0.1; fill:none\" points=\"\n",
       "  1065.13,1486.45 1065.13,47.2441 \n",
       "  \"/>\n",
       "<polyline clip-path=\"url(#clip802)\" style=\"stroke:#000000; stroke-linecap:butt; stroke-linejoin:round; stroke-width:2; stroke-opacity:0.1; fill:none\" points=\"\n",
       "  1473.9,1486.45 1473.9,47.2441 \n",
       "  \"/>\n",
       "<polyline clip-path=\"url(#clip802)\" style=\"stroke:#000000; stroke-linecap:butt; stroke-linejoin:round; stroke-width:2; stroke-opacity:0.1; fill:none\" points=\"\n",
       "  1882.67,1486.45 1882.67,47.2441 \n",
       "  \"/>\n",
       "<polyline clip-path=\"url(#clip802)\" style=\"stroke:#000000; stroke-linecap:butt; stroke-linejoin:round; stroke-width:2; stroke-opacity:0.1; fill:none\" points=\"\n",
       "  2291.44,1486.45 2291.44,47.2441 \n",
       "  \"/>\n",
       "<polyline clip-path=\"url(#clip800)\" style=\"stroke:#000000; stroke-linecap:butt; stroke-linejoin:round; stroke-width:4; stroke-opacity:1; fill:none\" points=\"\n",
       "  186.274,1486.45 2352.76,1486.45 \n",
       "  \"/>\n",
       "<polyline clip-path=\"url(#clip800)\" style=\"stroke:#000000; stroke-linecap:butt; stroke-linejoin:round; stroke-width:4; stroke-opacity:1; fill:none\" points=\"\n",
       "  247.59,1486.45 247.59,1467.55 \n",
       "  \"/>\n",
       "<polyline clip-path=\"url(#clip800)\" style=\"stroke:#000000; stroke-linecap:butt; stroke-linejoin:round; stroke-width:4; stroke-opacity:1; fill:none\" points=\"\n",
       "  656.36,1486.45 656.36,1467.55 \n",
       "  \"/>\n",
       "<polyline clip-path=\"url(#clip800)\" style=\"stroke:#000000; stroke-linecap:butt; stroke-linejoin:round; stroke-width:4; stroke-opacity:1; fill:none\" points=\"\n",
       "  1065.13,1486.45 1065.13,1467.55 \n",
       "  \"/>\n",
       "<polyline clip-path=\"url(#clip800)\" style=\"stroke:#000000; stroke-linecap:butt; stroke-linejoin:round; stroke-width:4; stroke-opacity:1; fill:none\" points=\"\n",
       "  1473.9,1486.45 1473.9,1467.55 \n",
       "  \"/>\n",
       "<polyline clip-path=\"url(#clip800)\" style=\"stroke:#000000; stroke-linecap:butt; stroke-linejoin:round; stroke-width:4; stroke-opacity:1; fill:none\" points=\"\n",
       "  1882.67,1486.45 1882.67,1467.55 \n",
       "  \"/>\n",
       "<polyline clip-path=\"url(#clip800)\" style=\"stroke:#000000; stroke-linecap:butt; stroke-linejoin:round; stroke-width:4; stroke-opacity:1; fill:none\" points=\"\n",
       "  2291.44,1486.45 2291.44,1467.55 \n",
       "  \"/>\n",
       "<path clip-path=\"url(#clip800)\" d=\"M247.59 1517.37 Q243.978 1517.37 242.15 1520.93 Q240.344 1524.47 240.344 1531.6 Q240.344 1538.71 242.15 1542.27 Q243.978 1545.82 247.59 1545.82 Q251.224 1545.82 253.029 1542.27 Q254.858 1538.71 254.858 1531.6 Q254.858 1524.47 253.029 1520.93 Q251.224 1517.37 247.59 1517.37 M247.59 1513.66 Q253.4 1513.66 256.455 1518.27 Q259.534 1522.85 259.534 1531.6 Q259.534 1540.33 256.455 1544.94 Q253.4 1549.52 247.59 1549.52 Q241.779 1549.52 238.701 1544.94 Q235.645 1540.33 235.645 1531.6 Q235.645 1522.85 238.701 1518.27 Q241.779 1513.66 247.59 1513.66 Z\" fill=\"#000000\" fill-rule=\"evenodd\" fill-opacity=\"1\" /><path clip-path=\"url(#clip800)\" d=\"M646.742 1544.91 L654.381 1544.91 L654.381 1518.55 L646.07 1520.21 L646.07 1515.95 L654.334 1514.29 L659.01 1514.29 L659.01 1544.91 L666.649 1544.91 L666.649 1548.85 L646.742 1548.85 L646.742 1544.91 Z\" fill=\"#000000\" fill-rule=\"evenodd\" fill-opacity=\"1\" /><path clip-path=\"url(#clip800)\" d=\"M1059.78 1544.91 L1076.1 1544.91 L1076.1 1548.85 L1054.16 1548.85 L1054.16 1544.91 Q1056.82 1542.16 1061.4 1537.53 Q1066.01 1532.88 1067.19 1531.53 Q1069.44 1529.01 1070.32 1527.27 Q1071.22 1525.51 1071.22 1523.82 Q1071.22 1521.07 1069.27 1519.33 Q1067.35 1517.6 1064.25 1517.6 Q1062.05 1517.6 1059.6 1518.36 Q1057.17 1519.13 1054.39 1520.68 L1054.39 1515.95 Q1057.21 1514.82 1059.67 1514.24 Q1062.12 1513.66 1064.16 1513.66 Q1069.53 1513.66 1072.72 1516.35 Q1075.92 1519.03 1075.92 1523.52 Q1075.92 1525.65 1075.11 1527.57 Q1074.32 1529.47 1072.21 1532.07 Q1071.63 1532.74 1068.53 1535.95 Q1065.43 1539.15 1059.78 1544.91 Z\" fill=\"#000000\" fill-rule=\"evenodd\" fill-opacity=\"1\" /><path clip-path=\"url(#clip800)\" d=\"M1478.15 1530.21 Q1481.5 1530.93 1483.38 1533.2 Q1485.28 1535.47 1485.28 1538.8 Q1485.28 1543.92 1481.76 1546.72 Q1478.24 1549.52 1471.76 1549.52 Q1469.58 1549.52 1467.27 1549.08 Q1464.98 1548.66 1462.52 1547.81 L1462.52 1543.29 Q1464.47 1544.43 1466.78 1545.01 Q1469.1 1545.58 1471.62 1545.58 Q1476.02 1545.58 1478.31 1543.85 Q1480.62 1542.11 1480.62 1538.8 Q1480.62 1535.75 1478.47 1534.03 Q1476.34 1532.3 1472.52 1532.3 L1468.49 1532.3 L1468.49 1528.45 L1472.71 1528.45 Q1476.16 1528.45 1477.99 1527.09 Q1479.81 1525.7 1479.81 1523.11 Q1479.81 1520.45 1477.92 1519.03 Q1476.04 1517.6 1472.52 1517.6 Q1470.6 1517.6 1468.4 1518.01 Q1466.2 1518.43 1463.56 1519.31 L1463.56 1515.14 Q1466.23 1514.4 1468.54 1514.03 Q1470.88 1513.66 1472.94 1513.66 Q1478.26 1513.66 1481.37 1516.09 Q1484.47 1518.5 1484.47 1522.62 Q1484.47 1525.49 1482.82 1527.48 Q1481.18 1529.45 1478.15 1530.21 Z\" fill=\"#000000\" fill-rule=\"evenodd\" fill-opacity=\"1\" /><path clip-path=\"url(#clip800)\" d=\"M1885.68 1518.36 L1873.87 1536.81 L1885.68 1536.81 L1885.68 1518.36 M1884.45 1514.29 L1890.33 1514.29 L1890.33 1536.81 L1895.26 1536.81 L1895.26 1540.7 L1890.33 1540.7 L1890.33 1548.85 L1885.68 1548.85 L1885.68 1540.7 L1870.08 1540.7 L1870.08 1536.19 L1884.45 1514.29 Z\" fill=\"#000000\" fill-rule=\"evenodd\" fill-opacity=\"1\" /><path clip-path=\"url(#clip800)\" d=\"M2281.72 1514.29 L2300.07 1514.29 L2300.07 1518.22 L2286 1518.22 L2286 1526.7 Q2287.02 1526.35 2288.04 1526.19 Q2289.06 1526 2290.07 1526 Q2295.86 1526 2299.24 1529.17 Q2302.62 1532.34 2302.62 1537.76 Q2302.62 1543.34 2299.15 1546.44 Q2295.68 1549.52 2289.36 1549.52 Q2287.18 1549.52 2284.91 1549.15 Q2282.67 1548.78 2280.26 1548.04 L2280.26 1543.34 Q2282.34 1544.47 2284.57 1545.03 Q2286.79 1545.58 2289.26 1545.58 Q2293.27 1545.58 2295.61 1543.48 Q2297.94 1541.37 2297.94 1537.76 Q2297.94 1534.15 2295.61 1532.04 Q2293.27 1529.94 2289.26 1529.94 Q2287.39 1529.94 2285.51 1530.35 Q2283.66 1530.77 2281.72 1531.65 L2281.72 1514.29 Z\" fill=\"#000000\" fill-rule=\"evenodd\" fill-opacity=\"1\" /><polyline clip-path=\"url(#clip802)\" style=\"stroke:#000000; stroke-linecap:butt; stroke-linejoin:round; stroke-width:2; stroke-opacity:0.1; fill:none\" points=\"\n",
       "  186.274,1445.72 2352.76,1445.72 \n",
       "  \"/>\n",
       "<polyline clip-path=\"url(#clip802)\" style=\"stroke:#000000; stroke-linecap:butt; stroke-linejoin:round; stroke-width:2; stroke-opacity:0.1; fill:none\" points=\"\n",
       "  186.274,1117.25 2352.76,1117.25 \n",
       "  \"/>\n",
       "<polyline clip-path=\"url(#clip802)\" style=\"stroke:#000000; stroke-linecap:butt; stroke-linejoin:round; stroke-width:2; stroke-opacity:0.1; fill:none\" points=\"\n",
       "  186.274,788.782 2352.76,788.782 \n",
       "  \"/>\n",
       "<polyline clip-path=\"url(#clip802)\" style=\"stroke:#000000; stroke-linecap:butt; stroke-linejoin:round; stroke-width:2; stroke-opacity:0.1; fill:none\" points=\"\n",
       "  186.274,460.315 2352.76,460.315 \n",
       "  \"/>\n",
       "<polyline clip-path=\"url(#clip802)\" style=\"stroke:#000000; stroke-linecap:butt; stroke-linejoin:round; stroke-width:2; stroke-opacity:0.1; fill:none\" points=\"\n",
       "  186.274,131.848 2352.76,131.848 \n",
       "  \"/>\n",
       "<polyline clip-path=\"url(#clip800)\" style=\"stroke:#000000; stroke-linecap:butt; stroke-linejoin:round; stroke-width:4; stroke-opacity:1; fill:none\" points=\"\n",
       "  186.274,1486.45 186.274,47.2441 \n",
       "  \"/>\n",
       "<polyline clip-path=\"url(#clip800)\" style=\"stroke:#000000; stroke-linecap:butt; stroke-linejoin:round; stroke-width:4; stroke-opacity:1; fill:none\" points=\"\n",
       "  186.274,1445.72 205.172,1445.72 \n",
       "  \"/>\n",
       "<polyline clip-path=\"url(#clip800)\" style=\"stroke:#000000; stroke-linecap:butt; stroke-linejoin:round; stroke-width:4; stroke-opacity:1; fill:none\" points=\"\n",
       "  186.274,1117.25 205.172,1117.25 \n",
       "  \"/>\n",
       "<polyline clip-path=\"url(#clip800)\" style=\"stroke:#000000; stroke-linecap:butt; stroke-linejoin:round; stroke-width:4; stroke-opacity:1; fill:none\" points=\"\n",
       "  186.274,788.782 205.172,788.782 \n",
       "  \"/>\n",
       "<polyline clip-path=\"url(#clip800)\" style=\"stroke:#000000; stroke-linecap:butt; stroke-linejoin:round; stroke-width:4; stroke-opacity:1; fill:none\" points=\"\n",
       "  186.274,460.315 205.172,460.315 \n",
       "  \"/>\n",
       "<polyline clip-path=\"url(#clip800)\" style=\"stroke:#000000; stroke-linecap:butt; stroke-linejoin:round; stroke-width:4; stroke-opacity:1; fill:none\" points=\"\n",
       "  186.274,131.848 205.172,131.848 \n",
       "  \"/>\n",
       "<path clip-path=\"url(#clip800)\" d=\"M62.9365 1431.51 Q59.3254 1431.51 57.4967 1435.08 Q55.6912 1438.62 55.6912 1445.75 Q55.6912 1452.86 57.4967 1456.42 Q59.3254 1459.96 62.9365 1459.96 Q66.5707 1459.96 68.3763 1456.42 Q70.205 1452.86 70.205 1445.75 Q70.205 1438.62 68.3763 1435.08 Q66.5707 1431.51 62.9365 1431.51 M62.9365 1427.81 Q68.7467 1427.81 71.8022 1432.42 Q74.8809 1437 74.8809 1445.75 Q74.8809 1454.48 71.8022 1459.08 Q68.7467 1463.67 62.9365 1463.67 Q57.1264 1463.67 54.0477 1459.08 Q50.9921 1454.48 50.9921 1445.75 Q50.9921 1437 54.0477 1432.42 Q57.1264 1427.81 62.9365 1427.81 Z\" fill=\"#000000\" fill-rule=\"evenodd\" fill-opacity=\"1\" /><path clip-path=\"url(#clip800)\" d=\"M83.0984 1457.12 L87.9827 1457.12 L87.9827 1463 L83.0984 1463 L83.0984 1457.12 Z\" fill=\"#000000\" fill-rule=\"evenodd\" fill-opacity=\"1\" /><path clip-path=\"url(#clip800)\" d=\"M108.168 1431.51 Q104.557 1431.51 102.728 1435.08 Q100.922 1438.62 100.922 1445.75 Q100.922 1452.86 102.728 1456.42 Q104.557 1459.96 108.168 1459.96 Q111.802 1459.96 113.608 1456.42 Q115.436 1452.86 115.436 1445.75 Q115.436 1438.62 113.608 1435.08 Q111.802 1431.51 108.168 1431.51 M108.168 1427.81 Q113.978 1427.81 117.033 1432.42 Q120.112 1437 120.112 1445.75 Q120.112 1454.48 117.033 1459.08 Q113.978 1463.67 108.168 1463.67 Q102.358 1463.67 99.2789 1459.08 Q96.2234 1454.48 96.2234 1445.75 Q96.2234 1437 99.2789 1432.42 Q102.358 1427.81 108.168 1427.81 Z\" fill=\"#000000\" fill-rule=\"evenodd\" fill-opacity=\"1\" /><path clip-path=\"url(#clip800)\" d=\"M138.33 1431.51 Q134.719 1431.51 132.89 1435.08 Q131.084 1438.62 131.084 1445.75 Q131.084 1452.86 132.89 1456.42 Q134.719 1459.96 138.33 1459.96 Q141.964 1459.96 143.769 1456.42 Q145.598 1452.86 145.598 1445.75 Q145.598 1438.62 143.769 1435.08 Q141.964 1431.51 138.33 1431.51 M138.33 1427.81 Q144.14 1427.81 147.195 1432.42 Q150.274 1437 150.274 1445.75 Q150.274 1454.48 147.195 1459.08 Q144.14 1463.67 138.33 1463.67 Q132.519 1463.67 129.441 1459.08 Q126.385 1454.48 126.385 1445.75 Q126.385 1437 129.441 1432.42 Q132.519 1427.81 138.33 1427.81 Z\" fill=\"#000000\" fill-rule=\"evenodd\" fill-opacity=\"1\" /><path clip-path=\"url(#clip800)\" d=\"M63.9319 1103.05 Q60.3208 1103.05 58.4921 1106.61 Q56.6865 1110.15 56.6865 1117.28 Q56.6865 1124.39 58.4921 1127.95 Q60.3208 1131.5 63.9319 1131.5 Q67.5661 1131.5 69.3717 1127.95 Q71.2004 1124.39 71.2004 1117.28 Q71.2004 1110.15 69.3717 1106.61 Q67.5661 1103.05 63.9319 1103.05 M63.9319 1099.34 Q69.742 1099.34 72.7976 1103.95 Q75.8763 1108.53 75.8763 1117.28 Q75.8763 1126.01 72.7976 1130.62 Q69.742 1135.2 63.9319 1135.2 Q58.1217 1135.2 55.043 1130.62 Q51.9875 1126.01 51.9875 1117.28 Q51.9875 1108.53 55.043 1103.95 Q58.1217 1099.34 63.9319 1099.34 Z\" fill=\"#000000\" fill-rule=\"evenodd\" fill-opacity=\"1\" /><path clip-path=\"url(#clip800)\" d=\"M84.0938 1128.65 L88.978 1128.65 L88.978 1134.53 L84.0938 1134.53 L84.0938 1128.65 Z\" fill=\"#000000\" fill-rule=\"evenodd\" fill-opacity=\"1\" /><path clip-path=\"url(#clip800)\" d=\"M103.191 1130.59 L119.51 1130.59 L119.51 1134.53 L97.566 1134.53 L97.566 1130.59 Q100.228 1127.84 104.811 1123.21 Q109.418 1118.56 110.598 1117.21 Q112.844 1114.69 113.723 1112.95 Q114.626 1111.2 114.626 1109.51 Q114.626 1106.75 112.682 1105.01 Q110.76 1103.28 107.658 1103.28 Q105.459 1103.28 103.006 1104.04 Q100.575 1104.81 97.7974 1106.36 L97.7974 1101.64 Q100.621 1100.5 103.075 1099.92 Q105.529 1099.34 107.566 1099.34 Q112.936 1099.34 116.131 1102.03 Q119.325 1104.71 119.325 1109.2 Q119.325 1111.33 118.515 1113.26 Q117.728 1115.15 115.621 1117.75 Q115.043 1118.42 111.941 1121.64 Q108.839 1124.83 103.191 1130.59 Z\" fill=\"#000000\" fill-rule=\"evenodd\" fill-opacity=\"1\" /><path clip-path=\"url(#clip800)\" d=\"M129.371 1099.97 L147.728 1099.97 L147.728 1103.9 L133.654 1103.9 L133.654 1112.38 Q134.672 1112.03 135.691 1111.87 Q136.709 1111.68 137.728 1111.68 Q143.515 1111.68 146.894 1114.85 Q150.274 1118.02 150.274 1123.44 Q150.274 1129.02 146.802 1132.12 Q143.33 1135.2 137.01 1135.2 Q134.834 1135.2 132.566 1134.83 Q130.32 1134.46 127.913 1133.72 L127.913 1129.02 Q129.996 1130.15 132.219 1130.71 Q134.441 1131.26 136.918 1131.26 Q140.922 1131.26 143.26 1129.16 Q145.598 1127.05 145.598 1123.44 Q145.598 1119.83 143.26 1117.72 Q140.922 1115.62 136.918 1115.62 Q135.043 1115.62 133.168 1116.03 Q131.316 1116.45 129.371 1117.33 L129.371 1099.97 Z\" fill=\"#000000\" fill-rule=\"evenodd\" fill-opacity=\"1\" /><path clip-path=\"url(#clip800)\" d=\"M62.9365 774.58 Q59.3254 774.58 57.4967 778.145 Q55.6912 781.687 55.6912 788.816 Q55.6912 795.923 57.4967 799.488 Q59.3254 803.029 62.9365 803.029 Q66.5707 803.029 68.3763 799.488 Q70.205 795.923 70.205 788.816 Q70.205 781.687 68.3763 778.145 Q66.5707 774.58 62.9365 774.58 M62.9365 770.877 Q68.7467 770.877 71.8022 775.483 Q74.8809 780.066 74.8809 788.816 Q74.8809 797.543 71.8022 802.15 Q68.7467 806.733 62.9365 806.733 Q57.1264 806.733 54.0477 802.15 Q50.9921 797.543 50.9921 788.816 Q50.9921 780.066 54.0477 775.483 Q57.1264 770.877 62.9365 770.877 Z\" fill=\"#000000\" fill-rule=\"evenodd\" fill-opacity=\"1\" /><path clip-path=\"url(#clip800)\" d=\"M83.0984 800.182 L87.9827 800.182 L87.9827 806.062 L83.0984 806.062 L83.0984 800.182 Z\" fill=\"#000000\" fill-rule=\"evenodd\" fill-opacity=\"1\" /><path clip-path=\"url(#clip800)\" d=\"M98.2141 771.502 L116.57 771.502 L116.57 775.437 L102.496 775.437 L102.496 783.909 Q103.515 783.562 104.534 783.4 Q105.552 783.215 106.571 783.215 Q112.358 783.215 115.737 786.386 Q119.117 789.557 119.117 794.974 Q119.117 800.552 115.645 803.654 Q112.172 806.733 105.853 806.733 Q103.677 806.733 101.409 806.363 Q99.1632 805.992 96.7558 805.252 L96.7558 800.552 Q98.8391 801.687 101.061 802.242 Q103.284 802.798 105.76 802.798 Q109.765 802.798 112.103 800.691 Q114.441 798.585 114.441 794.974 Q114.441 791.363 112.103 789.256 Q109.765 787.15 105.76 787.15 Q103.885 787.15 102.01 787.566 Q100.159 787.983 98.2141 788.863 L98.2141 771.502 Z\" fill=\"#000000\" fill-rule=\"evenodd\" fill-opacity=\"1\" /><path clip-path=\"url(#clip800)\" d=\"M138.33 774.58 Q134.719 774.58 132.89 778.145 Q131.084 781.687 131.084 788.816 Q131.084 795.923 132.89 799.488 Q134.719 803.029 138.33 803.029 Q141.964 803.029 143.769 799.488 Q145.598 795.923 145.598 788.816 Q145.598 781.687 143.769 778.145 Q141.964 774.58 138.33 774.58 M138.33 770.877 Q144.14 770.877 147.195 775.483 Q150.274 780.066 150.274 788.816 Q150.274 797.543 147.195 802.15 Q144.14 806.733 138.33 806.733 Q132.519 806.733 129.441 802.15 Q126.385 797.543 126.385 788.816 Q126.385 780.066 129.441 775.483 Q132.519 770.877 138.33 770.877 Z\" fill=\"#000000\" fill-rule=\"evenodd\" fill-opacity=\"1\" /><path clip-path=\"url(#clip800)\" d=\"M63.9319 446.113 Q60.3208 446.113 58.4921 449.678 Q56.6865 453.22 56.6865 460.349 Q56.6865 467.456 58.4921 471.021 Q60.3208 474.562 63.9319 474.562 Q67.5661 474.562 69.3717 471.021 Q71.2004 467.456 71.2004 460.349 Q71.2004 453.22 69.3717 449.678 Q67.5661 446.113 63.9319 446.113 M63.9319 442.41 Q69.742 442.41 72.7976 447.016 Q75.8763 451.599 75.8763 460.349 Q75.8763 469.076 72.7976 473.683 Q69.742 478.266 63.9319 478.266 Q58.1217 478.266 55.043 473.683 Q51.9875 469.076 51.9875 460.349 Q51.9875 451.599 55.043 447.016 Q58.1217 442.41 63.9319 442.41 Z\" fill=\"#000000\" fill-rule=\"evenodd\" fill-opacity=\"1\" /><path clip-path=\"url(#clip800)\" d=\"M84.0938 471.715 L88.978 471.715 L88.978 477.595 L84.0938 477.595 L84.0938 471.715 Z\" fill=\"#000000\" fill-rule=\"evenodd\" fill-opacity=\"1\" /><path clip-path=\"url(#clip800)\" d=\"M97.9826 443.035 L120.205 443.035 L120.205 445.025 L107.658 477.595 L102.774 477.595 L114.58 446.97 L97.9826 446.97 L97.9826 443.035 Z\" fill=\"#000000\" fill-rule=\"evenodd\" fill-opacity=\"1\" /><path clip-path=\"url(#clip800)\" d=\"M129.371 443.035 L147.728 443.035 L147.728 446.97 L133.654 446.97 L133.654 455.442 Q134.672 455.095 135.691 454.933 Q136.709 454.748 137.728 454.748 Q143.515 454.748 146.894 457.919 Q150.274 461.09 150.274 466.507 Q150.274 472.085 146.802 475.187 Q143.33 478.266 137.01 478.266 Q134.834 478.266 132.566 477.896 Q130.32 477.525 127.913 476.785 L127.913 472.085 Q129.996 473.22 132.219 473.775 Q134.441 474.331 136.918 474.331 Q140.922 474.331 143.26 472.224 Q145.598 470.118 145.598 466.507 Q145.598 462.896 143.26 460.789 Q140.922 458.683 136.918 458.683 Q135.043 458.683 133.168 459.099 Q131.316 459.516 129.371 460.396 L129.371 443.035 Z\" fill=\"#000000\" fill-rule=\"evenodd\" fill-opacity=\"1\" /><path clip-path=\"url(#clip800)\" d=\"M53.7467 145.193 L61.3856 145.193 L61.3856 118.827 L53.0754 120.494 L53.0754 116.234 L61.3393 114.568 L66.0152 114.568 L66.0152 145.193 L73.654 145.193 L73.654 149.128 L53.7467 149.128 L53.7467 145.193 Z\" fill=\"#000000\" fill-rule=\"evenodd\" fill-opacity=\"1\" /><path clip-path=\"url(#clip800)\" d=\"M83.0984 143.248 L87.9827 143.248 L87.9827 149.128 L83.0984 149.128 L83.0984 143.248 Z\" fill=\"#000000\" fill-rule=\"evenodd\" fill-opacity=\"1\" /><path clip-path=\"url(#clip800)\" d=\"M108.168 117.646 Q104.557 117.646 102.728 121.211 Q100.922 124.753 100.922 131.882 Q100.922 138.989 102.728 142.554 Q104.557 146.095 108.168 146.095 Q111.802 146.095 113.608 142.554 Q115.436 138.989 115.436 131.882 Q115.436 124.753 113.608 121.211 Q111.802 117.646 108.168 117.646 M108.168 113.943 Q113.978 113.943 117.033 118.549 Q120.112 123.132 120.112 131.882 Q120.112 140.609 117.033 145.216 Q113.978 149.799 108.168 149.799 Q102.358 149.799 99.2789 145.216 Q96.2234 140.609 96.2234 131.882 Q96.2234 123.132 99.2789 118.549 Q102.358 113.943 108.168 113.943 Z\" fill=\"#000000\" fill-rule=\"evenodd\" fill-opacity=\"1\" /><path clip-path=\"url(#clip800)\" d=\"M138.33 117.646 Q134.719 117.646 132.89 121.211 Q131.084 124.753 131.084 131.882 Q131.084 138.989 132.89 142.554 Q134.719 146.095 138.33 146.095 Q141.964 146.095 143.769 142.554 Q145.598 138.989 145.598 131.882 Q145.598 124.753 143.769 121.211 Q141.964 117.646 138.33 117.646 M138.33 113.943 Q144.14 113.943 147.195 118.549 Q150.274 123.132 150.274 131.882 Q150.274 140.609 147.195 145.216 Q144.14 149.799 138.33 149.799 Q132.519 149.799 129.441 145.216 Q126.385 140.609 126.385 131.882 Q126.385 123.132 129.441 118.549 Q132.519 113.943 138.33 113.943 Z\" fill=\"#000000\" fill-rule=\"evenodd\" fill-opacity=\"1\" /><polyline clip-path=\"url(#clip802)\" style=\"stroke:#009af9; stroke-linecap:butt; stroke-linejoin:round; stroke-width:4; stroke-opacity:1; fill:none\" points=\"\n",
       "  247.59,1445.72 247.797,320.241 248.005,304.208 248.213,294.723 248.421,287.945 248.629,282.661 248.837,278.325 249.045,274.647 249.253,271.451 249.669,266.091 \n",
       "  250.085,261.694 250.5,257.963 250.916,254.722 251.748,249.286 252.579,244.826 253.411,241.042 254.243,237.755 255.906,232.241 257.569,227.718 259.233,223.88 \n",
       "  260.896,220.546 268.586,209.088 276.276,201.188 283.966,195.141 291.656,190.237 307.036,182.543 322.415,176.597 353.175,167.647 383.935,160.961 420.905,154.655 \n",
       "  457.876,149.55 489.134,145.879 520.392,142.647 588.302,136.722 650.909,132.208 718.031,128.074 795.798,123.954 864.908,120.748 925.511,118.213 991.585,115.691 \n",
       "  1058.05,113.366 1131.54,111.004 1201.46,108.929 1274.16,106.924 1335.36,105.34 1410.08,103.522 1478.52,101.954 1541.74,100.58 1605.77,99.2535 1677.54,97.8378 \n",
       "  1742.57,96.6139 1817.03,95.275 1885.97,94.0897 1953.93,92.9681 2019.92,91.9201 2087.57,90.8848 2161.69,89.7925 2269.35,88.2773 2291.44,87.9763 \n",
       "  \"/>\n",
       "<path clip-path=\"url(#clip800)\" d=\"\n",
       "M1987.39 198.898 L2280.54 198.898 L2280.54 95.2176 L1987.39 95.2176  Z\n",
       "  \" fill=\"#ffffff\" fill-rule=\"evenodd\" fill-opacity=\"1\"/>\n",
       "<polyline clip-path=\"url(#clip800)\" style=\"stroke:#000000; stroke-linecap:butt; stroke-linejoin:round; stroke-width:4; stroke-opacity:1; fill:none\" points=\"\n",
       "  1987.39,198.898 2280.54,198.898 2280.54,95.2176 1987.39,95.2176 1987.39,198.898 \n",
       "  \"/>\n",
       "<polyline clip-path=\"url(#clip800)\" style=\"stroke:#009af9; stroke-linecap:butt; stroke-linejoin:round; stroke-width:4; stroke-opacity:1; fill:none\" points=\"\n",
       "  2011.46,147.058 2155.89,147.058 \n",
       "  \"/>\n",
       "<path clip-path=\"url(#clip800)\" d=\"M2193.81 166.745 Q2192 171.375 2190.29 172.787 Q2188.58 174.199 2185.71 174.199 L2182.3 174.199 L2182.3 170.634 L2184.8 170.634 Q2186.56 170.634 2187.53 169.8 Q2188.51 168.967 2189.69 165.865 L2190.45 163.921 L2179.97 138.412 L2184.48 138.412 L2192.58 158.689 L2200.68 138.412 L2205.2 138.412 L2193.81 166.745 Z\" fill=\"#000000\" fill-rule=\"evenodd\" fill-opacity=\"1\" /><path clip-path=\"url(#clip800)\" d=\"M2212.49 160.402 L2220.13 160.402 L2220.13 134.037 L2211.82 135.703 L2211.82 131.444 L2220.08 129.778 L2224.76 129.778 L2224.76 160.402 L2232.4 160.402 L2232.4 164.338 L2212.49 164.338 L2212.49 160.402 Z\" fill=\"#000000\" fill-rule=\"evenodd\" fill-opacity=\"1\" /></svg>\n"
      ]
     },
     "metadata": {},
     "output_type": "display_data"
    }
   ],
   "source": [
    "f(a)=a^(1/49)\n",
    "using Plots\n",
    "plot(f)"
   ]
  },
  {
   "cell_type": "code",
   "execution_count": 30,
   "metadata": {},
   "outputs": [
    {
     "data": {
      "text/plain": [
       "1.0286957334762774"
      ]
     },
     "metadata": {},
     "output_type": "display_data"
    }
   ],
   "source": [
    "f(4)"
   ]
  },
  {
   "cell_type": "code",
   "execution_count": null,
   "metadata": {},
   "outputs": [],
   "source": [
    "u=complex(-8)^(1/9)\n",
    "plot(u)"
   ]
  },
  {
   "cell_type": "code",
   "execution_count": 35,
   "metadata": {},
   "outputs": [
    {
     "data": {
      "text/plain": [
       "-6045878379276664832"
      ]
     },
     "metadata": {},
     "output_type": "display_data"
    }
   ],
   "source": [
    "prod(1:32)"
   ]
  },
  {
   "cell_type": "code",
   "execution_count": 37,
   "metadata": {},
   "outputs": [],
   "source": [
    "\n",
    "using SpecialFunctions"
   ]
  },
  {
   "cell_type": "code",
   "execution_count": 38,
   "metadata": {},
   "outputs": [
    {
     "data": {
      "text/plain": [
       "15.104412573075518"
      ]
     },
     "metadata": {},
     "output_type": "display_data"
    }
   ],
   "source": [
    "lgamma(11)"
   ]
  },
  {
   "cell_type": "code",
   "execution_count": 41,
   "metadata": {},
   "outputs": [
    {
     "data": {
      "text/plain": [
       "1.160964047443681"
      ]
     },
     "metadata": {},
     "output_type": "display_data"
    }
   ],
   "source": [
    "log(4,5)"
   ]
  },
  {
   "cell_type": "code",
   "execution_count": 43,
   "metadata": {},
   "outputs": [
    {
     "data": {
      "text/plain": [
       "1.7629525510902446e180"
      ]
     },
     "metadata": {},
     "output_type": "display_data"
    }
   ],
   "source": [
    "gamma(112)"
   ]
  },
  {
   "cell_type": "code",
   "execution_count": 44,
   "metadata": {},
   "outputs": [
    {
     "data": {
      "image/png": "[encoded data removed]",
      "image/svg+xml": "<?xml version=\"1.0\" encoding=\"utf-8\"?>\n<svg xmlns=\"http://www.w3.org/2000/svg\" xmlns:xlink=\"http://www.w3.org/1999/xlink\" width=\"600\" height=\"400\" viewBox=\"0 0 2400 1600\">\n<defs>\n  <clipPath id=\"clip840\">\n    <rect x=\"0\" y=\"0\" width=\"2400\" height=\"1600\"/>\n  </clipPath>\n</defs>\n<path clip-path=\"url(#clip840)\" d=\"\nM0 1600 L2400 1600 L2400 0 L0 0  Z\n  \" fill=\"#ffffff\" fill-rule=\"evenodd\" fill-opacity=\"1\"/>\n<defs>\n  <clipPath id=\"clip841\">\n    <rect x=\"480\" y=\"0\" width=\"1681\" height=\"1600\"/>\n  </clipPath>\n</defs>\n<path clip-path=\"url(#clip840)\" d=\"\nM202.177 1486.45 L2352.76 1486.45 L2352.76 47.2441 L202.177 47.2441  Z\n  \" fill=\"#ffffff\" fill-rule=\"evenodd\" fill-opacity=\"1\"/>\n<defs>\n  <clipPath id=\"clip842\">\n    <rect x=\"202\" y=\"47\" width=\"2152\" height=\"1440\"/>\n  </clipPath>\n</defs>\n<polyline clip-path=\"url(#clip842)\" style=\"stroke:#000000; stroke-linecap:butt; stroke-linejoin:round; stroke-width:2; stroke-opacity:0.1; fill:none\" points=\"\n  263.042,1486.45 263.042,47.2441 \n  \"/>\n<polyline clip-path=\"url(#clip842)\" style=\"stroke:#000000; stroke-linecap:butt; stroke-linejoin:round; stroke-width:2; stroke-opacity:0.1; fill:none\" points=\"\n  668.812,1486.45 668.812,47.2441 \n  \"/>\n<polyline clip-path=\"url(#clip842)\" style=\"stroke:#000000; stroke-linecap:butt; stroke-linejoin:round; stroke-width:2; stroke-opacity:0.1; fill:none\" points=\"\n  1074.58,1486.45 1074.58,47.2441 \n  \"/>\n<polyline clip-path=\"url(#clip842)\" style=\"stroke:#000000; stroke-linecap:butt; stroke-linejoin:round; stroke-width:2; stroke-opacity:0.1; fill:none\" points=\"\n  1480.35,1486.45 1480.35,47.2441 \n  \"/>\n<polyline clip-path=\"url(#clip842)\" style=\"stroke:#000000; stroke-linecap:butt; stroke-linejoin:round; stroke-width:2; stroke-opacity:0.1; fill:none\" points=\"\n  1886.12,1486.45 1886.12,47.2441 \n  \"/>\n<polyline clip-path=\"url(#clip842)\" style=\"stroke:#000000; stroke-linecap:butt; stroke-linejoin:round; stroke-width:2; stroke-opacity:0.1; fill:none\" points=\"\n  2291.89,1486.45 2291.89,47.2441 \n  \"/>\n<polyline clip-path=\"url(#clip840)\" style=\"stroke:#000000; stroke-linecap:butt; stroke-linejoin:round; stroke-width:4; stroke-opacity:1; fill:none\" points=\"\n  202.177,1486.45 2352.76,1486.45 \n  \"/>\n<polyline clip-path=\"url(#clip840)\" style=\"stroke:#000000; stroke-linecap:butt; stroke-linejoin:round; stroke-width:4; stroke-opacity:1; fill:none\" points=\"\n  263.042,1486.45 263.042,1467.55 \n  \"/>\n<polyline clip-path=\"url(#clip840)\" style=\"stroke:#000000; stroke-linecap:butt; stroke-linejoin:round; stroke-width:4; stroke-opacity:1; fill:none\" points=\"\n  668.812,1486.45 668.812,1467.55 \n  \"/>\n<polyline clip-path=\"url(#clip840)\" style=\"stroke:#000000; stroke-linecap:butt; stroke-linejoin:round; stroke-width:4; stroke-opacity:1; fill:none\" points=\"\n  1074.58,1486.45 1074.58,1467.55 \n  \"/>\n<polyline clip-path=\"url(#clip840)\" style=\"stroke:#000000; stroke-linecap:butt; stroke-linejoin:round; stroke-width:4; stroke-opacity:1; fill:none\" points=\"\n  1480.35,1486.45 1480.35,1467.55 \n  \"/>\n<polyline clip-path=\"url(#clip840)\" style=\"stroke:#000000; stroke-linecap:butt; stroke-linejoin:round; stroke-width:4; stroke-opacity:1; fill:none\" points=\"\n  1886.12,1486.45 1886.12,1467.55 \n  \"/>\n<polyline clip-path=\"url(#clip840)\" style=\"stroke:#000000; stroke-linecap:butt; stroke-linejoin:round; stroke-width:4; stroke-opacity:1; fill:none\" points=\"\n  2291.89,1486.45 2291.89,1467.55 \n  \"/>\n<path clip-path=\"url(#clip840)\" d=\"M263.042 1517.37 Q259.431 1517.37 257.602 1520.93 Q255.797 1524.47 255.797 1531.6 Q255.797 1538.71 257.602 1542.27 Q259.431 1545.82 263.042 1545.82 Q266.676 1545.82 268.482 1542.27 Q270.311 1538.71 270.311 1531.6 Q270.311 1524.47 268.482 1520.93 Q266.676 1517.37 263.042 1517.37 M263.042 1513.66 Q268.852 1513.66 271.908 1518.27 Q274.987 1522.85 274.987 1531.6 Q274.987 1540.33 271.908 1544.94 Q268.852 1549.52 263.042 1549.52 Q257.232 1549.52 254.153 1544.94 Q251.098 1540.33 251.098 1531.6 Q251.098 1522.85 254.153 1518.27 Q257.232 1513.66 263.042 1513.66 Z\" fill=\"#000000\" fill-rule=\"evenodd\" fill-opacity=\"1\" /><path clip-path=\"url(#clip840)\" d=\"M659.194 1544.91 L666.833 1544.91 L666.833 1518.55 L658.523 1520.21 L658.523 1515.95 L666.786 1514.29 L671.462 1514.29 L671.462 1544.91 L679.101 1544.91 L679.101 1548.85 L659.194 1548.85 L659.194 1544.91 Z\" fill=\"#000000\" fill-rule=\"evenodd\" fill-opacity=\"1\" /><path clip-path=\"url(#clip840)\" d=\"M1069.23 1544.91 L1085.55 1544.91 L1085.55 1548.85 L1063.61 1548.85 L1063.61 1544.91 Q1066.27 1542.16 1070.85 1537.53 Q1075.46 1532.88 1076.64 1531.53 Q1078.89 1529.01 1079.77 1527.27 Q1080.67 1525.51 1080.67 1523.82 Q1080.67 1521.07 1078.72 1519.33 Q1076.8 1517.6 1073.7 1517.6 Q1071.5 1517.6 1069.05 1518.36 Q1066.62 1519.13 1063.84 1520.68 L1063.84 1515.95 Q1066.66 1514.82 1069.12 1514.24 Q1071.57 1513.66 1073.61 1513.66 Q1078.98 1513.66 1082.17 1516.35 Q1085.37 1519.03 1085.37 1523.52 Q1085.37 1525.65 1084.56 1527.57 Q1083.77 1529.47 1081.66 1532.07 Q1081.09 1532.74 1077.98 1535.95 Q1074.88 1539.15 1069.23 1544.91 Z\" fill=\"#000000\" fill-rule=\"evenodd\" fill-opacity=\"1\" /><path clip-path=\"url(#clip840)\" d=\"M1484.6 1530.21 Q1487.96 1530.93 1489.83 1533.2 Q1491.73 1535.47 1491.73 1538.8 Q1491.73 1543.92 1488.21 1546.72 Q1484.69 1549.52 1478.21 1549.52 Q1476.03 1549.52 1473.72 1549.08 Q1471.43 1548.66 1468.97 1547.81 L1468.97 1543.29 Q1470.92 1544.43 1473.23 1545.01 Q1475.55 1545.58 1478.07 1545.58 Q1482.47 1545.58 1484.76 1543.85 Q1487.08 1542.11 1487.08 1538.8 Q1487.08 1535.75 1484.92 1534.03 Q1482.79 1532.3 1478.97 1532.3 L1474.95 1532.3 L1474.95 1528.45 L1479.16 1528.45 Q1482.61 1528.45 1484.44 1527.09 Q1486.27 1525.7 1486.27 1523.11 Q1486.27 1520.45 1484.37 1519.03 Q1482.49 1517.6 1478.97 1517.6 Q1477.05 1517.6 1474.85 1518.01 Q1472.65 1518.43 1470.02 1519.31 L1470.02 1515.14 Q1472.68 1514.4 1474.99 1514.03 Q1477.33 1513.66 1479.39 1513.66 Q1484.71 1513.66 1487.82 1516.09 Q1490.92 1518.5 1490.92 1522.62 Q1490.92 1525.49 1489.27 1527.48 Q1487.63 1529.45 1484.6 1530.21 Z\" fill=\"#000000\" fill-rule=\"evenodd\" fill-opacity=\"1\" /><path clip-path=\"url(#clip840)\" d=\"M1889.13 1518.36 L1877.32 1536.81 L1889.13 1536.81 L1889.13 1518.36 M1887.9 1514.29 L1893.78 1514.29 L1893.78 1536.81 L1898.71 1536.81 L1898.71 1540.7 L1893.78 1540.7 L1893.78 1548.85 L1889.13 1548.85 L1889.13 1540.7 L1873.53 1540.7 L1873.53 1536.19 L1887.9 1514.29 Z\" fill=\"#000000\" fill-rule=\"evenodd\" fill-opacity=\"1\" /><path clip-path=\"url(#clip840)\" d=\"M2282.17 1514.29 L2300.52 1514.29 L2300.52 1518.22 L2286.45 1518.22 L2286.45 1526.7 Q2287.47 1526.35 2288.49 1526.19 Q2289.51 1526 2290.52 1526 Q2296.31 1526 2299.69 1529.17 Q2303.07 1532.34 2303.07 1537.76 Q2303.07 1543.34 2299.6 1546.44 Q2296.13 1549.52 2289.81 1549.52 Q2287.63 1549.52 2285.36 1549.15 Q2283.12 1548.78 2280.71 1548.04 L2280.71 1543.34 Q2282.79 1544.47 2285.02 1545.03 Q2287.24 1545.58 2289.71 1545.58 Q2293.72 1545.58 2296.06 1543.48 Q2298.4 1541.37 2298.4 1537.76 Q2298.4 1534.15 2296.06 1532.04 Q2293.72 1529.94 2289.71 1529.94 Q2287.84 1529.94 2285.96 1530.35 Q2284.11 1530.77 2282.17 1531.65 L2282.17 1514.29 Z\" fill=\"#000000\" fill-rule=\"evenodd\" fill-opacity=\"1\" /><polyline clip-path=\"url(#clip842)\" style=\"stroke:#000000; stroke-linecap:butt; stroke-linejoin:round; stroke-width:2; stroke-opacity:0.1; fill:none\" points=\"\n  202.177,1446.02 2352.76,1446.02 \n  \"/>\n<polyline clip-path=\"url(#clip842)\" style=\"stroke:#000000; stroke-linecap:butt; stroke-linejoin:round; stroke-width:2; stroke-opacity:0.1; fill:none\" points=\"\n  202.177,1100.6 2352.76,1100.6 \n  \"/>\n<polyline clip-path=\"url(#clip842)\" style=\"stroke:#000000; stroke-linecap:butt; stroke-linejoin:round; stroke-width:2; stroke-opacity:0.1; fill:none\" points=\"\n  202.177,755.169 2352.76,755.169 \n  \"/>\n<polyline clip-path=\"url(#clip842)\" style=\"stroke:#000000; stroke-linecap:butt; stroke-linejoin:round; stroke-width:2; stroke-opacity:0.1; fill:none\" points=\"\n  202.177,409.743 2352.76,409.743 \n  \"/>\n<polyline clip-path=\"url(#clip842)\" style=\"stroke:#000000; stroke-linecap:butt; stroke-linejoin:round; stroke-width:2; stroke-opacity:0.1; fill:none\" points=\"\n  202.177,64.3163 2352.76,64.3163 \n  \"/>\n<polyline clip-path=\"url(#clip840)\" style=\"stroke:#000000; stroke-linecap:butt; stroke-linejoin:round; stroke-width:4; stroke-opacity:1; fill:none\" points=\"\n  202.177,1486.45 202.177,47.2441 \n  \"/>\n<polyline clip-path=\"url(#clip840)\" style=\"stroke:#000000; stroke-linecap:butt; stroke-linejoin:round; stroke-width:4; stroke-opacity:1; fill:none\" points=\"\n  202.177,1446.02 221.074,1446.02 \n  \"/>\n<polyline clip-path=\"url(#clip840)\" style=\"stroke:#000000; stroke-linecap:butt; stroke-linejoin:round; stroke-width:4; stroke-opacity:1; fill:none\" points=\"\n  202.177,1100.6 221.074,1100.6 \n  \"/>\n<polyline clip-path=\"url(#clip840)\" style=\"stroke:#000000; stroke-linecap:butt; stroke-linejoin:round; stroke-width:4; stroke-opacity:1; fill:none\" points=\"\n  202.177,755.169 221.074,755.169 \n  \"/>\n<polyline clip-path=\"url(#clip840)\" style=\"stroke:#000000; stroke-linecap:butt; stroke-linejoin:round; stroke-width:4; stroke-opacity:1; fill:none\" points=\"\n  202.177,409.743 221.074,409.743 \n  \"/>\n<polyline clip-path=\"url(#clip840)\" style=\"stroke:#000000; stroke-linecap:butt; stroke-linejoin:round; stroke-width:4; stroke-opacity:1; fill:none\" points=\"\n  202.177,64.3163 221.074,64.3163 \n  \"/>\n<path clip-path=\"url(#clip840)\" d=\"M154.232 1431.82 Q150.621 1431.82 148.793 1435.39 Q146.987 1438.93 146.987 1446.06 Q146.987 1453.16 148.793 1456.73 Q150.621 1460.27 154.232 1460.27 Q157.867 1460.27 159.672 1456.73 Q161.501 1453.16 161.501 1446.06 Q161.501 1438.93 159.672 1435.39 Q157.867 1431.82 154.232 1431.82 M154.232 1428.12 Q160.042 1428.12 163.098 1432.72 Q166.177 1437.31 166.177 1446.06 Q166.177 1454.78 163.098 1459.39 Q160.042 1463.97 154.232 1463.97 Q148.422 1463.97 145.343 1459.39 Q142.288 1454.78 142.288 1446.06 Q142.288 1437.31 145.343 1432.72 Q148.422 1428.12 154.232 1428.12 Z\" fill=\"#000000\" fill-rule=\"evenodd\" fill-opacity=\"1\" /><path clip-path=\"url(#clip840)\" d=\"M54.5569 1113.94 L62.1958 1113.94 L62.1958 1087.57 L53.8856 1089.24 L53.8856 1084.98 L62.1495 1083.32 L66.8254 1083.32 L66.8254 1113.94 L74.4642 1113.94 L74.4642 1117.88 L54.5569 1117.88 L54.5569 1113.94 Z\" fill=\"#000000\" fill-rule=\"evenodd\" fill-opacity=\"1\" /><path clip-path=\"url(#clip840)\" d=\"M93.9086 1086.39 Q90.2975 1086.39 88.4688 1089.96 Q86.6632 1093.5 86.6632 1100.63 Q86.6632 1107.74 88.4688 1111.3 Q90.2975 1114.84 93.9086 1114.84 Q97.5428 1114.84 99.3483 1111.3 Q101.177 1107.74 101.177 1100.63 Q101.177 1093.5 99.3483 1089.96 Q97.5428 1086.39 93.9086 1086.39 M93.9086 1082.69 Q99.7187 1082.69 102.774 1087.3 Q105.853 1091.88 105.853 1100.63 Q105.853 1109.36 102.774 1113.96 Q99.7187 1118.55 93.9086 1118.55 Q88.0984 1118.55 85.0197 1113.96 Q81.9642 1109.36 81.9642 1100.63 Q81.9642 1091.88 85.0197 1087.3 Q88.0984 1082.69 93.9086 1082.69 Z\" fill=\"#000000\" fill-rule=\"evenodd\" fill-opacity=\"1\" /><path clip-path=\"url(#clip840)\" d=\"M124.07 1086.39 Q120.459 1086.39 118.631 1089.96 Q116.825 1093.5 116.825 1100.63 Q116.825 1107.74 118.631 1111.3 Q120.459 1114.84 124.07 1114.84 Q127.705 1114.84 129.51 1111.3 Q131.339 1107.74 131.339 1100.63 Q131.339 1093.5 129.51 1089.96 Q127.705 1086.39 124.07 1086.39 M124.07 1082.69 Q129.881 1082.69 132.936 1087.3 Q136.015 1091.88 136.015 1100.63 Q136.015 1109.36 132.936 1113.96 Q129.881 1118.55 124.07 1118.55 Q118.26 1118.55 115.182 1113.96 Q112.126 1109.36 112.126 1100.63 Q112.126 1091.88 115.182 1087.3 Q118.26 1082.69 124.07 1082.69 Z\" fill=\"#000000\" fill-rule=\"evenodd\" fill-opacity=\"1\" /><path clip-path=\"url(#clip840)\" d=\"M154.232 1086.39 Q150.621 1086.39 148.793 1089.96 Q146.987 1093.5 146.987 1100.63 Q146.987 1107.74 148.793 1111.3 Q150.621 1114.84 154.232 1114.84 Q157.867 1114.84 159.672 1111.3 Q161.501 1107.74 161.501 1100.63 Q161.501 1093.5 159.672 1089.96 Q157.867 1086.39 154.232 1086.39 M154.232 1082.69 Q160.042 1082.69 163.098 1087.3 Q166.177 1091.88 166.177 1100.63 Q166.177 1109.36 163.098 1113.96 Q160.042 1118.55 154.232 1118.55 Q148.422 1118.55 145.343 1113.96 Q142.288 1109.36 142.288 1100.63 Q142.288 1091.88 145.343 1087.3 Q148.422 1082.69 154.232 1082.69 Z\" fill=\"#000000\" fill-rule=\"evenodd\" fill-opacity=\"1\" /><path clip-path=\"url(#clip840)\" d=\"M57.7745 768.514 L74.0939 768.514 L74.0939 772.449 L52.1495 772.449 L52.1495 768.514 Q54.8115 765.759 59.3949 761.13 Q64.0013 756.477 65.1819 755.134 Q67.4272 752.611 68.3068 750.875 Q69.2096 749.116 69.2096 747.426 Q69.2096 744.671 67.2652 742.935 Q65.3439 741.199 62.2421 741.199 Q60.043 741.199 57.5893 741.963 Q55.1588 742.727 52.381 744.278 L52.381 739.556 Q55.2051 738.422 57.6588 737.843 Q60.1124 737.264 62.1495 737.264 Q67.5198 737.264 70.7142 739.949 Q73.9087 742.634 73.9087 747.125 Q73.9087 749.255 73.0985 751.176 Q72.3115 753.074 70.205 755.667 Q69.6263 756.338 66.5245 759.556 Q63.4226 762.75 57.7745 768.514 Z\" fill=\"#000000\" fill-rule=\"evenodd\" fill-opacity=\"1\" /><path clip-path=\"url(#clip840)\" d=\"M93.9086 740.968 Q90.2975 740.968 88.4688 744.533 Q86.6632 748.074 86.6632 755.204 Q86.6632 762.31 88.4688 765.875 Q90.2975 769.417 93.9086 769.417 Q97.5428 769.417 99.3483 765.875 Q101.177 762.31 101.177 755.204 Q101.177 748.074 99.3483 744.533 Q97.5428 740.968 93.9086 740.968 M93.9086 737.264 Q99.7187 737.264 102.774 741.871 Q105.853 746.454 105.853 755.204 Q105.853 763.931 102.774 768.537 Q99.7187 773.12 93.9086 773.12 Q88.0984 773.12 85.0197 768.537 Q81.9642 763.931 81.9642 755.204 Q81.9642 746.454 85.0197 741.871 Q88.0984 737.264 93.9086 737.264 Z\" fill=\"#000000\" fill-rule=\"evenodd\" fill-opacity=\"1\" /><path clip-path=\"url(#clip840)\" d=\"M124.07 740.968 Q120.459 740.968 118.631 744.533 Q116.825 748.074 116.825 755.204 Q116.825 762.31 118.631 765.875 Q120.459 769.417 124.07 769.417 Q127.705 769.417 129.51 765.875 Q131.339 762.31 131.339 755.204 Q131.339 748.074 129.51 744.533 Q127.705 740.968 124.07 740.968 M124.07 737.264 Q129.881 737.264 132.936 741.871 Q136.015 746.454 136.015 755.204 Q136.015 763.931 132.936 768.537 Q129.881 773.12 124.07 773.12 Q118.26 773.12 115.182 768.537 Q112.126 763.931 112.126 755.204 Q112.126 746.454 115.182 741.871 Q118.26 737.264 124.07 737.264 Z\" fill=\"#000000\" fill-rule=\"evenodd\" fill-opacity=\"1\" /><path clip-path=\"url(#clip840)\" d=\"M154.232 740.968 Q150.621 740.968 148.793 744.533 Q146.987 748.074 146.987 755.204 Q146.987 762.31 148.793 765.875 Q150.621 769.417 154.232 769.417 Q157.867 769.417 159.672 765.875 Q161.501 762.31 161.501 755.204 Q161.501 748.074 159.672 744.533 Q157.867 740.968 154.232 740.968 M154.232 737.264 Q160.042 737.264 163.098 741.871 Q166.177 746.454 166.177 755.204 Q166.177 763.931 163.098 768.537 Q160.042 773.12 154.232 773.12 Q148.422 773.12 145.343 768.537 Q142.288 763.931 142.288 755.204 Q142.288 746.454 145.343 741.871 Q148.422 737.264 154.232 737.264 Z\" fill=\"#000000\" fill-rule=\"evenodd\" fill-opacity=\"1\" /><path clip-path=\"url(#clip840)\" d=\"M67.9133 408.389 Q71.2698 409.106 73.1448 411.375 Q75.0429 413.643 75.0429 416.976 Q75.0429 422.092 71.5244 424.893 Q68.0059 427.694 61.5245 427.694 Q59.3486 427.694 57.0338 427.254 Q54.7421 426.838 52.2884 425.981 L52.2884 421.467 Q54.2328 422.601 56.5477 423.18 Q58.8625 423.759 61.3856 423.759 Q65.7837 423.759 68.0754 422.023 Q70.3902 420.287 70.3902 416.976 Q70.3902 413.921 68.2374 412.208 Q66.1078 410.472 62.2884 410.472 L58.2606 410.472 L58.2606 406.629 L62.4735 406.629 Q65.9226 406.629 67.7513 405.264 Q69.58 403.875 69.58 401.282 Q69.58 398.62 67.6819 397.208 Q65.8069 395.773 62.2884 395.773 Q60.3671 395.773 58.168 396.19 Q55.969 396.606 53.3301 397.486 L53.3301 393.319 Q55.9921 392.578 58.3069 392.208 Q60.6449 391.838 62.705 391.838 Q68.0291 391.838 71.1309 394.268 Q74.2327 396.676 74.2327 400.796 Q74.2327 403.666 72.5892 405.657 Q70.9457 407.625 67.9133 408.389 Z\" fill=\"#000000\" fill-rule=\"evenodd\" fill-opacity=\"1\" /><path clip-path=\"url(#clip840)\" d=\"M93.9086 395.541 Q90.2975 395.541 88.4688 399.106 Q86.6632 402.648 86.6632 409.777 Q86.6632 416.884 88.4688 420.449 Q90.2975 423.99 93.9086 423.99 Q97.5428 423.99 99.3483 420.449 Q101.177 416.884 101.177 409.777 Q101.177 402.648 99.3483 399.106 Q97.5428 395.541 93.9086 395.541 M93.9086 391.838 Q99.7187 391.838 102.774 396.444 Q105.853 401.027 105.853 409.777 Q105.853 418.504 102.774 423.111 Q99.7187 427.694 93.9086 427.694 Q88.0984 427.694 85.0197 423.111 Q81.9642 418.504 81.9642 409.777 Q81.9642 401.027 85.0197 396.444 Q88.0984 391.838 93.9086 391.838 Z\" fill=\"#000000\" fill-rule=\"evenodd\" fill-opacity=\"1\" /><path clip-path=\"url(#clip840)\" d=\"M124.07 395.541 Q120.459 395.541 118.631 399.106 Q116.825 402.648 116.825 409.777 Q116.825 416.884 118.631 420.449 Q120.459 423.99 124.07 423.99 Q127.705 423.99 129.51 420.449 Q131.339 416.884 131.339 409.777 Q131.339 402.648 129.51 399.106 Q127.705 395.541 124.07 395.541 M124.07 391.838 Q129.881 391.838 132.936 396.444 Q136.015 401.027 136.015 409.777 Q136.015 418.504 132.936 423.111 Q129.881 427.694 124.07 427.694 Q118.26 427.694 115.182 423.111 Q112.126 418.504 112.126 409.777 Q112.126 401.027 115.182 396.444 Q118.26 391.838 124.07 391.838 Z\" fill=\"#000000\" fill-rule=\"evenodd\" fill-opacity=\"1\" /><path clip-path=\"url(#clip840)\" d=\"M154.232 395.541 Q150.621 395.541 148.793 399.106 Q146.987 402.648 146.987 409.777 Q146.987 416.884 148.793 420.449 Q150.621 423.99 154.232 423.99 Q157.867 423.99 159.672 420.449 Q161.501 416.884 161.501 409.777 Q161.501 402.648 159.672 399.106 Q157.867 395.541 154.232 395.541 M154.232 391.838 Q160.042 391.838 163.098 396.444 Q166.177 401.027 166.177 409.777 Q166.177 418.504 163.098 423.111 Q160.042 427.694 154.232 427.694 Q148.422 427.694 145.343 423.111 Q142.288 418.504 142.288 409.777 Q142.288 401.027 145.343 396.444 Q148.422 391.838 154.232 391.838 Z\" fill=\"#000000\" fill-rule=\"evenodd\" fill-opacity=\"1\" /><path clip-path=\"url(#clip840)\" d=\"M66.5939 51.1103 L54.7884 69.5593 L66.5939 69.5593 L66.5939 51.1103 M65.367 47.0363 L71.2466 47.0363 L71.2466 69.5593 L76.1772 69.5593 L76.1772 73.4482 L71.2466 73.4482 L71.2466 81.5963 L66.5939 81.5963 L66.5939 73.4482 L50.9921 73.4482 L50.9921 68.9343 L65.367 47.0363 Z\" fill=\"#000000\" fill-rule=\"evenodd\" fill-opacity=\"1\" /><path clip-path=\"url(#clip840)\" d=\"M93.9086 50.115 Q90.2975 50.115 88.4688 53.6797 Q86.6632 57.2214 86.6632 64.351 Q86.6632 71.4574 88.4688 75.0222 Q90.2975 78.5639 93.9086 78.5639 Q97.5428 78.5639 99.3483 75.0222 Q101.177 71.4574 101.177 64.351 Q101.177 57.2214 99.3483 53.6797 Q97.5428 50.115 93.9086 50.115 M93.9086 46.4113 Q99.7187 46.4113 102.774 51.0177 Q105.853 55.601 105.853 64.351 Q105.853 73.0778 102.774 77.6842 Q99.7187 82.2676 93.9086 82.2676 Q88.0984 82.2676 85.0197 77.6842 Q81.9642 73.0778 81.9642 64.351 Q81.9642 55.601 85.0197 51.0177 Q88.0984 46.4113 93.9086 46.4113 Z\" fill=\"#000000\" fill-rule=\"evenodd\" fill-opacity=\"1\" /><path clip-path=\"url(#clip840)\" d=\"M124.07 50.115 Q120.459 50.115 118.631 53.6797 Q116.825 57.2214 116.825 64.351 Q116.825 71.4574 118.631 75.0222 Q120.459 78.5639 124.07 78.5639 Q127.705 78.5639 129.51 75.0222 Q131.339 71.4574 131.339 64.351 Q131.339 57.2214 129.51 53.6797 Q127.705 50.115 124.07 50.115 M124.07 46.4113 Q129.881 46.4113 132.936 51.0177 Q136.015 55.601 136.015 64.351 Q136.015 73.0778 132.936 77.6842 Q129.881 82.2676 124.07 82.2676 Q118.26 82.2676 115.182 77.6842 Q112.126 73.0778 112.126 64.351 Q112.126 55.601 115.182 51.0177 Q118.26 46.4113 124.07 46.4113 Z\" fill=\"#000000\" fill-rule=\"evenodd\" fill-opacity=\"1\" /><path clip-path=\"url(#clip840)\" d=\"M154.232 50.115 Q150.621 50.115 148.793 53.6797 Q146.987 57.2214 146.987 64.351 Q146.987 71.4574 148.793 75.0222 Q150.621 78.5639 154.232 78.5639 Q157.867 78.5639 159.672 75.0222 Q161.501 71.4574 161.501 64.351 Q161.501 57.2214 159.672 53.6797 Q157.867 50.115 154.232 50.115 M154.232 46.4113 Q160.042 46.4113 163.098 51.0177 Q166.177 55.601 166.177 64.351 Q166.177 73.0778 163.098 77.6842 Q160.042 82.2676 154.232 82.2676 Q148.422 82.2676 145.343 77.6842 Q142.288 73.0778 142.288 64.351 Q142.288 55.601 145.343 51.0177 Q148.422 46.4113 154.232 46.4113 Z\" fill=\"#000000\" fill-rule=\"evenodd\" fill-opacity=\"1\" /><polyline clip-path=\"url(#clip842)\" style=\"stroke:#009af9; stroke-linecap:butt; stroke-linejoin:round; stroke-width:4; stroke-opacity:1; fill:none\" points=\"\n  263.145,87.9763 263.249,767.099 263.352,993.473 263.455,1106.66 263.558,1174.57 263.661,1219.85 263.765,1252.19 263.868,1276.44 263.971,1295.3 264.074,1310.4 \n  264.177,1322.74 264.28,1333.03 264.384,1341.74 264.487,1349.2 264.59,1355.67 264.693,1361.33 264.796,1366.32 264.9,1370.76 265.003,1374.73 265.106,1378.31 \n  265.312,1384.48 265.519,1389.63 265.725,1393.98 265.932,1397.71 266.138,1400.94 266.344,1403.77 266.551,1406.27 266.757,1408.49 266.964,1410.47 267.17,1412.26 \n  267.583,1415.35 267.995,1417.92 268.408,1420.1 268.821,1421.96 269.234,1423.58 269.647,1424.99 270.059,1426.24 270.472,1427.35 270.885,1428.34 271.298,1429.24 \n  272.123,1430.78 272.949,1432.06 273.774,1433.15 274.6,1434.08 275.013,1434.5 275.425,1434.89 275.838,1435.26 276.251,1435.6 280.068,1437.98 283.885,1439.48 \n  287.701,1440.52 291.518,1441.28 299.151,1442.31 306.785,1442.98 314.418,1443.45 322.052,1443.8 329.685,1444.07 337.319,1444.28 352.586,1444.59 367.853,1444.81 \n  383.12,1444.97 398.387,1445.1 416.736,1445.21 435.086,1445.3 453.435,1445.37 471.785,1445.43 502.813,1445.5 533.842,1445.55 601.254,1445.63 663.401,1445.67 \n  730.03,1445.7 807.226,1445.71 875.829,1445.72 935.987,1445.71 1001.58,1445.7 1067.55,1445.68 1140.5,1445.65 1209.91,1445.61 1282.08,1445.56 1342.83,1445.5 \n  1417,1445.42 1484.94,1445.32 1547.69,1445.21 1611.26,1445.07 1646.88,1444.98 1682.5,1444.88 1714.77,1444.77 1747.05,1444.65 1784,1444.5 1820.96,1444.32 \n  1855.18,1444.14 1889.39,1443.93 1923.13,1443.7 1956.86,1443.43 1989.61,1443.14 2022.37,1442.81 2039.15,1442.63 2055.94,1442.43 2072.73,1442.22 2089.52,1442 \n  2107.91,1441.73 2126.3,1441.45 2144.7,1441.15 2163.09,1440.82 2189.81,1440.31 2216.53,1439.73 2243.25,1439.09 2269.96,1438.38 2275.45,1438.22 2280.93,1438.06 \n  2286.41,1437.9 2291.89,1437.73 \n  \"/>\n<path clip-path=\"url(#clip840)\" d=\"\nM1989.69 198.898 L2281.07 198.898 L2281.07 95.2176 L1989.69 95.2176  Z\n  \" fill=\"#ffffff\" fill-rule=\"evenodd\" fill-opacity=\"1\"/>\n<polyline clip-path=\"url(#clip840)\" style=\"stroke:#000000; stroke-linecap:butt; stroke-linejoin:round; stroke-width:4; stroke-opacity:1; fill:none\" points=\"\n  1989.69,198.898 2281.07,198.898 2281.07,95.2176 1989.69,95.2176 1989.69,198.898 \n  \"/>\n<polyline clip-path=\"url(#clip840)\" style=\"stroke:#009af9; stroke-linecap:butt; stroke-linejoin:round; stroke-width:4; stroke-opacity:1; fill:none\" points=\"\n  2013.58,147.058 2156.95,147.058 \n  \"/>\n<path clip-path=\"url(#clip840)\" d=\"M2194.69 166.745 Q2192.89 171.375 2191.17 172.787 Q2189.46 174.199 2186.59 174.199 L2183.19 174.199 L2183.19 170.634 L2185.69 170.634 Q2187.45 170.634 2188.42 169.8 Q2189.39 168.967 2190.57 165.865 L2191.34 163.921 L2180.85 138.412 L2185.36 138.412 L2193.46 158.689 L2201.57 138.412 L2206.08 138.412 L2194.69 166.745 Z\" fill=\"#000000\" fill-rule=\"evenodd\" fill-opacity=\"1\" /><path clip-path=\"url(#clip840)\" d=\"M2213.37 160.402 L2221.01 160.402 L2221.01 134.037 L2212.7 135.703 L2212.7 131.444 L2220.96 129.778 L2225.64 129.778 L2225.64 160.402 L2233.28 160.402 L2233.28 164.338 L2213.37 164.338 L2213.37 160.402 Z\" fill=\"#000000\" fill-rule=\"evenodd\" fill-opacity=\"1\" /></svg>\n",
      "text/html": [
       "<?xml version=\"1.0\" encoding=\"utf-8\"?>\n",
       "<svg xmlns=\"http://www.w3.org/2000/svg\" xmlns:xlink=\"http://www.w3.org/1999/xlink\" width=\"600\" height=\"400\" viewBox=\"0 0 2400 1600\">\n",
       "<defs>\n",
       "  <clipPath id=\"clip890\">\n",
       "    <rect x=\"0\" y=\"0\" width=\"2400\" height=\"1600\"/>\n",
       "  </clipPath>\n",
       "</defs>\n",
       "<path clip-path=\"url(#clip890)\" d=\"\n",
       "M0 1600 L2400 1600 L2400 0 L0 0  Z\n",
       "  \" fill=\"#ffffff\" fill-rule=\"evenodd\" fill-opacity=\"1\"/>\n",
       "<defs>\n",
       "  <clipPath id=\"clip891\">\n",
       "    <rect x=\"480\" y=\"0\" width=\"1681\" height=\"1600\"/>\n",
       "  </clipPath>\n",
       "</defs>\n",
       "<path clip-path=\"url(#clip890)\" d=\"\n",
       "M202.177 1486.45 L2352.76 1486.45 L2352.76 47.2441 L202.177 47.2441  Z\n",
       "  \" fill=\"#ffffff\" fill-rule=\"evenodd\" fill-opacity=\"1\"/>\n",
       "<defs>\n",
       "  <clipPath id=\"clip892\">\n",
       "    <rect x=\"202\" y=\"47\" width=\"2152\" height=\"1440\"/>\n",
       "  </clipPath>\n",
       "</defs>\n",
       "<polyline clip-path=\"url(#clip892)\" style=\"stroke:#000000; stroke-linecap:butt; stroke-linejoin:round; stroke-width:2; stroke-opacity:0.1; fill:none\" points=\"\n",
       "  263.042,1486.45 263.042,47.2441 \n",
       "  \"/>\n",
       "<polyline clip-path=\"url(#clip892)\" style=\"stroke:#000000; stroke-linecap:butt; stroke-linejoin:round; stroke-width:2; stroke-opacity:0.1; fill:none\" points=\"\n",
       "  668.812,1486.45 668.812,47.2441 \n",
       "  \"/>\n",
       "<polyline clip-path=\"url(#clip892)\" style=\"stroke:#000000; stroke-linecap:butt; stroke-linejoin:round; stroke-width:2; stroke-opacity:0.1; fill:none\" points=\"\n",
       "  1074.58,1486.45 1074.58,47.2441 \n",
       "  \"/>\n",
       "<polyline clip-path=\"url(#clip892)\" style=\"stroke:#000000; stroke-linecap:butt; stroke-linejoin:round; stroke-width:2; stroke-opacity:0.1; fill:none\" points=\"\n",
       "  1480.35,1486.45 1480.35,47.2441 \n",
       "  \"/>\n",
       "<polyline clip-path=\"url(#clip892)\" style=\"stroke:#000000; stroke-linecap:butt; stroke-linejoin:round; stroke-width:2; stroke-opacity:0.1; fill:none\" points=\"\n",
       "  1886.12,1486.45 1886.12,47.2441 \n",
       "  \"/>\n",
       "<polyline clip-path=\"url(#clip892)\" style=\"stroke:#000000; stroke-linecap:butt; stroke-linejoin:round; stroke-width:2; stroke-opacity:0.1; fill:none\" points=\"\n",
       "  2291.89,1486.45 2291.89,47.2441 \n",
       "  \"/>\n",
       "<polyline clip-path=\"url(#clip890)\" style=\"stroke:#000000; stroke-linecap:butt; stroke-linejoin:round; stroke-width:4; stroke-opacity:1; fill:none\" points=\"\n",
       "  202.177,1486.45 2352.76,1486.45 \n",
       "  \"/>\n",
       "<polyline clip-path=\"url(#clip890)\" style=\"stroke:#000000; stroke-linecap:butt; stroke-linejoin:round; stroke-width:4; stroke-opacity:1; fill:none\" points=\"\n",
       "  263.042,1486.45 263.042,1467.55 \n",
       "  \"/>\n",
       "<polyline clip-path=\"url(#clip890)\" style=\"stroke:#000000; stroke-linecap:butt; stroke-linejoin:round; stroke-width:4; stroke-opacity:1; fill:none\" points=\"\n",
       "  668.812,1486.45 668.812,1467.55 \n",
       "  \"/>\n",
       "<polyline clip-path=\"url(#clip890)\" style=\"stroke:#000000; stroke-linecap:butt; stroke-linejoin:round; stroke-width:4; stroke-opacity:1; fill:none\" points=\"\n",
       "  1074.58,1486.45 1074.58,1467.55 \n",
       "  \"/>\n",
       "<polyline clip-path=\"url(#clip890)\" style=\"stroke:#000000; stroke-linecap:butt; stroke-linejoin:round; stroke-width:4; stroke-opacity:1; fill:none\" points=\"\n",
       "  1480.35,1486.45 1480.35,1467.55 \n",
       "  \"/>\n",
       "<polyline clip-path=\"url(#clip890)\" style=\"stroke:#000000; stroke-linecap:butt; stroke-linejoin:round; stroke-width:4; stroke-opacity:1; fill:none\" points=\"\n",
       "  1886.12,1486.45 1886.12,1467.55 \n",
       "  \"/>\n",
       "<polyline clip-path=\"url(#clip890)\" style=\"stroke:#000000; stroke-linecap:butt; stroke-linejoin:round; stroke-width:4; stroke-opacity:1; fill:none\" points=\"\n",
       "  2291.89,1486.45 2291.89,1467.55 \n",
       "  \"/>\n",
       "<path clip-path=\"url(#clip890)\" d=\"M263.042 1517.37 Q259.431 1517.37 257.602 1520.93 Q255.797 1524.47 255.797 1531.6 Q255.797 1538.71 257.602 1542.27 Q259.431 1545.82 263.042 1545.82 Q266.676 1545.82 268.482 1542.27 Q270.311 1538.71 270.311 1531.6 Q270.311 1524.47 268.482 1520.93 Q266.676 1517.37 263.042 1517.37 M263.042 1513.66 Q268.852 1513.66 271.908 1518.27 Q274.987 1522.85 274.987 1531.6 Q274.987 1540.33 271.908 1544.94 Q268.852 1549.52 263.042 1549.52 Q257.232 1549.52 254.153 1544.94 Q251.098 1540.33 251.098 1531.6 Q251.098 1522.85 254.153 1518.27 Q257.232 1513.66 263.042 1513.66 Z\" fill=\"#000000\" fill-rule=\"evenodd\" fill-opacity=\"1\" /><path clip-path=\"url(#clip890)\" d=\"M659.194 1544.91 L666.833 1544.91 L666.833 1518.55 L658.523 1520.21 L658.523 1515.95 L666.786 1514.29 L671.462 1514.29 L671.462 1544.91 L679.101 1544.91 L679.101 1548.85 L659.194 1548.85 L659.194 1544.91 Z\" fill=\"#000000\" fill-rule=\"evenodd\" fill-opacity=\"1\" /><path clip-path=\"url(#clip890)\" d=\"M1069.23 1544.91 L1085.55 1544.91 L1085.55 1548.85 L1063.61 1548.85 L1063.61 1544.91 Q1066.27 1542.16 1070.85 1537.53 Q1075.46 1532.88 1076.64 1531.53 Q1078.89 1529.01 1079.77 1527.27 Q1080.67 1525.51 1080.67 1523.82 Q1080.67 1521.07 1078.72 1519.33 Q1076.8 1517.6 1073.7 1517.6 Q1071.5 1517.6 1069.05 1518.36 Q1066.62 1519.13 1063.84 1520.68 L1063.84 1515.95 Q1066.66 1514.82 1069.12 1514.24 Q1071.57 1513.66 1073.61 1513.66 Q1078.98 1513.66 1082.17 1516.35 Q1085.37 1519.03 1085.37 1523.52 Q1085.37 1525.65 1084.56 1527.57 Q1083.77 1529.47 1081.66 1532.07 Q1081.09 1532.74 1077.98 1535.95 Q1074.88 1539.15 1069.23 1544.91 Z\" fill=\"#000000\" fill-rule=\"evenodd\" fill-opacity=\"1\" /><path clip-path=\"url(#clip890)\" d=\"M1484.6 1530.21 Q1487.96 1530.93 1489.83 1533.2 Q1491.73 1535.47 1491.73 1538.8 Q1491.73 1543.92 1488.21 1546.72 Q1484.69 1549.52 1478.21 1549.52 Q1476.03 1549.52 1473.72 1549.08 Q1471.43 1548.66 1468.97 1547.81 L1468.97 1543.29 Q1470.92 1544.43 1473.23 1545.01 Q1475.55 1545.58 1478.07 1545.58 Q1482.47 1545.58 1484.76 1543.85 Q1487.08 1542.11 1487.08 1538.8 Q1487.08 1535.75 1484.92 1534.03 Q1482.79 1532.3 1478.97 1532.3 L1474.95 1532.3 L1474.95 1528.45 L1479.16 1528.45 Q1482.61 1528.45 1484.44 1527.09 Q1486.27 1525.7 1486.27 1523.11 Q1486.27 1520.45 1484.37 1519.03 Q1482.49 1517.6 1478.97 1517.6 Q1477.05 1517.6 1474.85 1518.01 Q1472.65 1518.43 1470.02 1519.31 L1470.02 1515.14 Q1472.68 1514.4 1474.99 1514.03 Q1477.33 1513.66 1479.39 1513.66 Q1484.71 1513.66 1487.82 1516.09 Q1490.92 1518.5 1490.92 1522.62 Q1490.92 1525.49 1489.27 1527.48 Q1487.63 1529.45 1484.6 1530.21 Z\" fill=\"#000000\" fill-rule=\"evenodd\" fill-opacity=\"1\" /><path clip-path=\"url(#clip890)\" d=\"M1889.13 1518.36 L1877.32 1536.81 L1889.13 1536.81 L1889.13 1518.36 M1887.9 1514.29 L1893.78 1514.29 L1893.78 1536.81 L1898.71 1536.81 L1898.71 1540.7 L1893.78 1540.7 L1893.78 1548.85 L1889.13 1548.85 L1889.13 1540.7 L1873.53 1540.7 L1873.53 1536.19 L1887.9 1514.29 Z\" fill=\"#000000\" fill-rule=\"evenodd\" fill-opacity=\"1\" /><path clip-path=\"url(#clip890)\" d=\"M2282.17 1514.29 L2300.52 1514.29 L2300.52 1518.22 L2286.45 1518.22 L2286.45 1526.7 Q2287.47 1526.35 2288.49 1526.19 Q2289.51 1526 2290.52 1526 Q2296.31 1526 2299.69 1529.17 Q2303.07 1532.34 2303.07 1537.76 Q2303.07 1543.34 2299.6 1546.44 Q2296.13 1549.52 2289.81 1549.52 Q2287.63 1549.52 2285.36 1549.15 Q2283.12 1548.78 2280.71 1548.04 L2280.71 1543.34 Q2282.79 1544.47 2285.02 1545.03 Q2287.24 1545.58 2289.71 1545.58 Q2293.72 1545.58 2296.06 1543.48 Q2298.4 1541.37 2298.4 1537.76 Q2298.4 1534.15 2296.06 1532.04 Q2293.72 1529.94 2289.71 1529.94 Q2287.84 1529.94 2285.96 1530.35 Q2284.11 1530.77 2282.17 1531.65 L2282.17 1514.29 Z\" fill=\"#000000\" fill-rule=\"evenodd\" fill-opacity=\"1\" /><polyline clip-path=\"url(#clip892)\" style=\"stroke:#000000; stroke-linecap:butt; stroke-linejoin:round; stroke-width:2; stroke-opacity:0.1; fill:none\" points=\"\n",
       "  202.177,1446.02 2352.76,1446.02 \n",
       "  \"/>\n",
       "<polyline clip-path=\"url(#clip892)\" style=\"stroke:#000000; stroke-linecap:butt; stroke-linejoin:round; stroke-width:2; stroke-opacity:0.1; fill:none\" points=\"\n",
       "  202.177,1100.6 2352.76,1100.6 \n",
       "  \"/>\n",
       "<polyline clip-path=\"url(#clip892)\" style=\"stroke:#000000; stroke-linecap:butt; stroke-linejoin:round; stroke-width:2; stroke-opacity:0.1; fill:none\" points=\"\n",
       "  202.177,755.169 2352.76,755.169 \n",
       "  \"/>\n",
       "<polyline clip-path=\"url(#clip892)\" style=\"stroke:#000000; stroke-linecap:butt; stroke-linejoin:round; stroke-width:2; stroke-opacity:0.1; fill:none\" points=\"\n",
       "  202.177,409.743 2352.76,409.743 \n",
       "  \"/>\n",
       "<polyline clip-path=\"url(#clip892)\" style=\"stroke:#000000; stroke-linecap:butt; stroke-linejoin:round; stroke-width:2; stroke-opacity:0.1; fill:none\" points=\"\n",
       "  202.177,64.3163 2352.76,64.3163 \n",
       "  \"/>\n",
       "<polyline clip-path=\"url(#clip890)\" style=\"stroke:#000000; stroke-linecap:butt; stroke-linejoin:round; stroke-width:4; stroke-opacity:1; fill:none\" points=\"\n",
       "  202.177,1486.45 202.177,47.2441 \n",
       "  \"/>\n",
       "<polyline clip-path=\"url(#clip890)\" style=\"stroke:#000000; stroke-linecap:butt; stroke-linejoin:round; stroke-width:4; stroke-opacity:1; fill:none\" points=\"\n",
       "  202.177,1446.02 221.074,1446.02 \n",
       "  \"/>\n",
       "<polyline clip-path=\"url(#clip890)\" style=\"stroke:#000000; stroke-linecap:butt; stroke-linejoin:round; stroke-width:4; stroke-opacity:1; fill:none\" points=\"\n",
       "  202.177,1100.6 221.074,1100.6 \n",
       "  \"/>\n",
       "<polyline clip-path=\"url(#clip890)\" style=\"stroke:#000000; stroke-linecap:butt; stroke-linejoin:round; stroke-width:4; stroke-opacity:1; fill:none\" points=\"\n",
       "  202.177,755.169 221.074,755.169 \n",
       "  \"/>\n",
       "<polyline clip-path=\"url(#clip890)\" style=\"stroke:#000000; stroke-linecap:butt; stroke-linejoin:round; stroke-width:4; stroke-opacity:1; fill:none\" points=\"\n",
       "  202.177,409.743 221.074,409.743 \n",
       "  \"/>\n",
       "<polyline clip-path=\"url(#clip890)\" style=\"stroke:#000000; stroke-linecap:butt; stroke-linejoin:round; stroke-width:4; stroke-opacity:1; fill:none\" points=\"\n",
       "  202.177,64.3163 221.074,64.3163 \n",
       "  \"/>\n",
       "<path clip-path=\"url(#clip890)\" d=\"M154.232 1431.82 Q150.621 1431.82 148.793 1435.39 Q146.987 1438.93 146.987 1446.06 Q146.987 1453.16 148.793 1456.73 Q150.621 1460.27 154.232 1460.27 Q157.867 1460.27 159.672 1456.73 Q161.501 1453.16 161.501 1446.06 Q161.501 1438.93 159.672 1435.39 Q157.867 1431.82 154.232 1431.82 M154.232 1428.12 Q160.042 1428.12 163.098 1432.72 Q166.177 1437.31 166.177 1446.06 Q166.177 1454.78 163.098 1459.39 Q160.042 1463.97 154.232 1463.97 Q148.422 1463.97 145.343 1459.39 Q142.288 1454.78 142.288 1446.06 Q142.288 1437.31 145.343 1432.72 Q148.422 1428.12 154.232 1428.12 Z\" fill=\"#000000\" fill-rule=\"evenodd\" fill-opacity=\"1\" /><path clip-path=\"url(#clip890)\" d=\"M54.5569 1113.94 L62.1958 1113.94 L62.1958 1087.57 L53.8856 1089.24 L53.8856 1084.98 L62.1495 1083.32 L66.8254 1083.32 L66.8254 1113.94 L74.4642 1113.94 L74.4642 1117.88 L54.5569 1117.88 L54.5569 1113.94 Z\" fill=\"#000000\" fill-rule=\"evenodd\" fill-opacity=\"1\" /><path clip-path=\"url(#clip890)\" d=\"M93.9086 1086.39 Q90.2975 1086.39 88.4688 1089.96 Q86.6632 1093.5 86.6632 1100.63 Q86.6632 1107.74 88.4688 1111.3 Q90.2975 1114.84 93.9086 1114.84 Q97.5428 1114.84 99.3483 1111.3 Q101.177 1107.74 101.177 1100.63 Q101.177 1093.5 99.3483 1089.96 Q97.5428 1086.39 93.9086 1086.39 M93.9086 1082.69 Q99.7187 1082.69 102.774 1087.3 Q105.853 1091.88 105.853 1100.63 Q105.853 1109.36 102.774 1113.96 Q99.7187 1118.55 93.9086 1118.55 Q88.0984 1118.55 85.0197 1113.96 Q81.9642 1109.36 81.9642 1100.63 Q81.9642 1091.88 85.0197 1087.3 Q88.0984 1082.69 93.9086 1082.69 Z\" fill=\"#000000\" fill-rule=\"evenodd\" fill-opacity=\"1\" /><path clip-path=\"url(#clip890)\" d=\"M124.07 1086.39 Q120.459 1086.39 118.631 1089.96 Q116.825 1093.5 116.825 1100.63 Q116.825 1107.74 118.631 1111.3 Q120.459 1114.84 124.07 1114.84 Q127.705 1114.84 129.51 1111.3 Q131.339 1107.74 131.339 1100.63 Q131.339 1093.5 129.51 1089.96 Q127.705 1086.39 124.07 1086.39 M124.07 1082.69 Q129.881 1082.69 132.936 1087.3 Q136.015 1091.88 136.015 1100.63 Q136.015 1109.36 132.936 1113.96 Q129.881 1118.55 124.07 1118.55 Q118.26 1118.55 115.182 1113.96 Q112.126 1109.36 112.126 1100.63 Q112.126 1091.88 115.182 1087.3 Q118.26 1082.69 124.07 1082.69 Z\" fill=\"#000000\" fill-rule=\"evenodd\" fill-opacity=\"1\" /><path clip-path=\"url(#clip890)\" d=\"M154.232 1086.39 Q150.621 1086.39 148.793 1089.96 Q146.987 1093.5 146.987 1100.63 Q146.987 1107.74 148.793 1111.3 Q150.621 1114.84 154.232 1114.84 Q157.867 1114.84 159.672 1111.3 Q161.501 1107.74 161.501 1100.63 Q161.501 1093.5 159.672 1089.96 Q157.867 1086.39 154.232 1086.39 M154.232 1082.69 Q160.042 1082.69 163.098 1087.3 Q166.177 1091.88 166.177 1100.63 Q166.177 1109.36 163.098 1113.96 Q160.042 1118.55 154.232 1118.55 Q148.422 1118.55 145.343 1113.96 Q142.288 1109.36 142.288 1100.63 Q142.288 1091.88 145.343 1087.3 Q148.422 1082.69 154.232 1082.69 Z\" fill=\"#000000\" fill-rule=\"evenodd\" fill-opacity=\"1\" /><path clip-path=\"url(#clip890)\" d=\"M57.7745 768.514 L74.0939 768.514 L74.0939 772.449 L52.1495 772.449 L52.1495 768.514 Q54.8115 765.759 59.3949 761.13 Q64.0013 756.477 65.1819 755.134 Q67.4272 752.611 68.3068 750.875 Q69.2096 749.116 69.2096 747.426 Q69.2096 744.671 67.2652 742.935 Q65.3439 741.199 62.2421 741.199 Q60.043 741.199 57.5893 741.963 Q55.1588 742.727 52.381 744.278 L52.381 739.556 Q55.2051 738.422 57.6588 737.843 Q60.1124 737.264 62.1495 737.264 Q67.5198 737.264 70.7142 739.949 Q73.9087 742.634 73.9087 747.125 Q73.9087 749.255 73.0985 751.176 Q72.3115 753.074 70.205 755.667 Q69.6263 756.338 66.5245 759.556 Q63.4226 762.75 57.7745 768.514 Z\" fill=\"#000000\" fill-rule=\"evenodd\" fill-opacity=\"1\" /><path clip-path=\"url(#clip890)\" d=\"M93.9086 740.968 Q90.2975 740.968 88.4688 744.533 Q86.6632 748.074 86.6632 755.204 Q86.6632 762.31 88.4688 765.875 Q90.2975 769.417 93.9086 769.417 Q97.5428 769.417 99.3483 765.875 Q101.177 762.31 101.177 755.204 Q101.177 748.074 99.3483 744.533 Q97.5428 740.968 93.9086 740.968 M93.9086 737.264 Q99.7187 737.264 102.774 741.871 Q105.853 746.454 105.853 755.204 Q105.853 763.931 102.774 768.537 Q99.7187 773.12 93.9086 773.12 Q88.0984 773.12 85.0197 768.537 Q81.9642 763.931 81.9642 755.204 Q81.9642 746.454 85.0197 741.871 Q88.0984 737.264 93.9086 737.264 Z\" fill=\"#000000\" fill-rule=\"evenodd\" fill-opacity=\"1\" /><path clip-path=\"url(#clip890)\" d=\"M124.07 740.968 Q120.459 740.968 118.631 744.533 Q116.825 748.074 116.825 755.204 Q116.825 762.31 118.631 765.875 Q120.459 769.417 124.07 769.417 Q127.705 769.417 129.51 765.875 Q131.339 762.31 131.339 755.204 Q131.339 748.074 129.51 744.533 Q127.705 740.968 124.07 740.968 M124.07 737.264 Q129.881 737.264 132.936 741.871 Q136.015 746.454 136.015 755.204 Q136.015 763.931 132.936 768.537 Q129.881 773.12 124.07 773.12 Q118.26 773.12 115.182 768.537 Q112.126 763.931 112.126 755.204 Q112.126 746.454 115.182 741.871 Q118.26 737.264 124.07 737.264 Z\" fill=\"#000000\" fill-rule=\"evenodd\" fill-opacity=\"1\" /><path clip-path=\"url(#clip890)\" d=\"M154.232 740.968 Q150.621 740.968 148.793 744.533 Q146.987 748.074 146.987 755.204 Q146.987 762.31 148.793 765.875 Q150.621 769.417 154.232 769.417 Q157.867 769.417 159.672 765.875 Q161.501 762.31 161.501 755.204 Q161.501 748.074 159.672 744.533 Q157.867 740.968 154.232 740.968 M154.232 737.264 Q160.042 737.264 163.098 741.871 Q166.177 746.454 166.177 755.204 Q166.177 763.931 163.098 768.537 Q160.042 773.12 154.232 773.12 Q148.422 773.12 145.343 768.537 Q142.288 763.931 142.288 755.204 Q142.288 746.454 145.343 741.871 Q148.422 737.264 154.232 737.264 Z\" fill=\"#000000\" fill-rule=\"evenodd\" fill-opacity=\"1\" /><path clip-path=\"url(#clip890)\" d=\"M67.9133 408.389 Q71.2698 409.106 73.1448 411.375 Q75.0429 413.643 75.0429 416.976 Q75.0429 422.092 71.5244 424.893 Q68.0059 427.694 61.5245 427.694 Q59.3486 427.694 57.0338 427.254 Q54.7421 426.838 52.2884 425.981 L52.2884 421.467 Q54.2328 422.601 56.5477 423.18 Q58.8625 423.759 61.3856 423.759 Q65.7837 423.759 68.0754 422.023 Q70.3902 420.287 70.3902 416.976 Q70.3902 413.921 68.2374 412.208 Q66.1078 410.472 62.2884 410.472 L58.2606 410.472 L58.2606 406.629 L62.4735 406.629 Q65.9226 406.629 67.7513 405.264 Q69.58 403.875 69.58 401.282 Q69.58 398.62 67.6819 397.208 Q65.8069 395.773 62.2884 395.773 Q60.3671 395.773 58.168 396.19 Q55.969 396.606 53.3301 397.486 L53.3301 393.319 Q55.9921 392.578 58.3069 392.208 Q60.6449 391.838 62.705 391.838 Q68.0291 391.838 71.1309 394.268 Q74.2327 396.676 74.2327 400.796 Q74.2327 403.666 72.5892 405.657 Q70.9457 407.625 67.9133 408.389 Z\" fill=\"#000000\" fill-rule=\"evenodd\" fill-opacity=\"1\" /><path clip-path=\"url(#clip890)\" d=\"M93.9086 395.541 Q90.2975 395.541 88.4688 399.106 Q86.6632 402.648 86.6632 409.777 Q86.6632 416.884 88.4688 420.449 Q90.2975 423.99 93.9086 423.99 Q97.5428 423.99 99.3483 420.449 Q101.177 416.884 101.177 409.777 Q101.177 402.648 99.3483 399.106 Q97.5428 395.541 93.9086 395.541 M93.9086 391.838 Q99.7187 391.838 102.774 396.444 Q105.853 401.027 105.853 409.777 Q105.853 418.504 102.774 423.111 Q99.7187 427.694 93.9086 427.694 Q88.0984 427.694 85.0197 423.111 Q81.9642 418.504 81.9642 409.777 Q81.9642 401.027 85.0197 396.444 Q88.0984 391.838 93.9086 391.838 Z\" fill=\"#000000\" fill-rule=\"evenodd\" fill-opacity=\"1\" /><path clip-path=\"url(#clip890)\" d=\"M124.07 395.541 Q120.459 395.541 118.631 399.106 Q116.825 402.648 116.825 409.777 Q116.825 416.884 118.631 420.449 Q120.459 423.99 124.07 423.99 Q127.705 423.99 129.51 420.449 Q131.339 416.884 131.339 409.777 Q131.339 402.648 129.51 399.106 Q127.705 395.541 124.07 395.541 M124.07 391.838 Q129.881 391.838 132.936 396.444 Q136.015 401.027 136.015 409.777 Q136.015 418.504 132.936 423.111 Q129.881 427.694 124.07 427.694 Q118.26 427.694 115.182 423.111 Q112.126 418.504 112.126 409.777 Q112.126 401.027 115.182 396.444 Q118.26 391.838 124.07 391.838 Z\" fill=\"#000000\" fill-rule=\"evenodd\" fill-opacity=\"1\" /><path clip-path=\"url(#clip890)\" d=\"M154.232 395.541 Q150.621 395.541 148.793 399.106 Q146.987 402.648 146.987 409.777 Q146.987 416.884 148.793 420.449 Q150.621 423.99 154.232 423.99 Q157.867 423.99 159.672 420.449 Q161.501 416.884 161.501 409.777 Q161.501 402.648 159.672 399.106 Q157.867 395.541 154.232 395.541 M154.232 391.838 Q160.042 391.838 163.098 396.444 Q166.177 401.027 166.177 409.777 Q166.177 418.504 163.098 423.111 Q160.042 427.694 154.232 427.694 Q148.422 427.694 145.343 423.111 Q142.288 418.504 142.288 409.777 Q142.288 401.027 145.343 396.444 Q148.422 391.838 154.232 391.838 Z\" fill=\"#000000\" fill-rule=\"evenodd\" fill-opacity=\"1\" /><path clip-path=\"url(#clip890)\" d=\"M66.5939 51.1103 L54.7884 69.5593 L66.5939 69.5593 L66.5939 51.1103 M65.367 47.0363 L71.2466 47.0363 L71.2466 69.5593 L76.1772 69.5593 L76.1772 73.4482 L71.2466 73.4482 L71.2466 81.5963 L66.5939 81.5963 L66.5939 73.4482 L50.9921 73.4482 L50.9921 68.9343 L65.367 47.0363 Z\" fill=\"#000000\" fill-rule=\"evenodd\" fill-opacity=\"1\" /><path clip-path=\"url(#clip890)\" d=\"M93.9086 50.115 Q90.2975 50.115 88.4688 53.6797 Q86.6632 57.2214 86.6632 64.351 Q86.6632 71.4574 88.4688 75.0222 Q90.2975 78.5639 93.9086 78.5639 Q97.5428 78.5639 99.3483 75.0222 Q101.177 71.4574 101.177 64.351 Q101.177 57.2214 99.3483 53.6797 Q97.5428 50.115 93.9086 50.115 M93.9086 46.4113 Q99.7187 46.4113 102.774 51.0177 Q105.853 55.601 105.853 64.351 Q105.853 73.0778 102.774 77.6842 Q99.7187 82.2676 93.9086 82.2676 Q88.0984 82.2676 85.0197 77.6842 Q81.9642 73.0778 81.9642 64.351 Q81.9642 55.601 85.0197 51.0177 Q88.0984 46.4113 93.9086 46.4113 Z\" fill=\"#000000\" fill-rule=\"evenodd\" fill-opacity=\"1\" /><path clip-path=\"url(#clip890)\" d=\"M124.07 50.115 Q120.459 50.115 118.631 53.6797 Q116.825 57.2214 116.825 64.351 Q116.825 71.4574 118.631 75.0222 Q120.459 78.5639 124.07 78.5639 Q127.705 78.5639 129.51 75.0222 Q131.339 71.4574 131.339 64.351 Q131.339 57.2214 129.51 53.6797 Q127.705 50.115 124.07 50.115 M124.07 46.4113 Q129.881 46.4113 132.936 51.0177 Q136.015 55.601 136.015 64.351 Q136.015 73.0778 132.936 77.6842 Q129.881 82.2676 124.07 82.2676 Q118.26 82.2676 115.182 77.6842 Q112.126 73.0778 112.126 64.351 Q112.126 55.601 115.182 51.0177 Q118.26 46.4113 124.07 46.4113 Z\" fill=\"#000000\" fill-rule=\"evenodd\" fill-opacity=\"1\" /><path clip-path=\"url(#clip890)\" d=\"M154.232 50.115 Q150.621 50.115 148.793 53.6797 Q146.987 57.2214 146.987 64.351 Q146.987 71.4574 148.793 75.0222 Q150.621 78.5639 154.232 78.5639 Q157.867 78.5639 159.672 75.0222 Q161.501 71.4574 161.501 64.351 Q161.501 57.2214 159.672 53.6797 Q157.867 50.115 154.232 50.115 M154.232 46.4113 Q160.042 46.4113 163.098 51.0177 Q166.177 55.601 166.177 64.351 Q166.177 73.0778 163.098 77.6842 Q160.042 82.2676 154.232 82.2676 Q148.422 82.2676 145.343 77.6842 Q142.288 73.0778 142.288 64.351 Q142.288 55.601 145.343 51.0177 Q148.422 46.4113 154.232 46.4113 Z\" fill=\"#000000\" fill-rule=\"evenodd\" fill-opacity=\"1\" /><polyline clip-path=\"url(#clip892)\" style=\"stroke:#009af9; stroke-linecap:butt; stroke-linejoin:round; stroke-width:4; stroke-opacity:1; fill:none\" points=\"\n",
       "  263.145,87.9763 263.249,767.099 263.352,993.473 263.455,1106.66 263.558,1174.57 263.661,1219.85 263.765,1252.19 263.868,1276.44 263.971,1295.3 264.074,1310.4 \n",
       "  264.177,1322.74 264.28,1333.03 264.384,1341.74 264.487,1349.2 264.59,1355.67 264.693,1361.33 264.796,1366.32 264.9,1370.76 265.003,1374.73 265.106,1378.31 \n",
       "  265.312,1384.48 265.519,1389.63 265.725,1393.98 265.932,1397.71 266.138,1400.94 266.344,1403.77 266.551,1406.27 266.757,1408.49 266.964,1410.47 267.17,1412.26 \n",
       "  267.583,1415.35 267.995,1417.92 268.408,1420.1 268.821,1421.96 269.234,1423.58 269.647,1424.99 270.059,1426.24 270.472,1427.35 270.885,1428.34 271.298,1429.24 \n",
       "  272.123,1430.78 272.949,1432.06 273.774,1433.15 274.6,1434.08 275.013,1434.5 275.425,1434.89 275.838,1435.26 276.251,1435.6 280.068,1437.98 283.885,1439.48 \n",
       "  287.701,1440.52 291.518,1441.28 299.151,1442.31 306.785,1442.98 314.418,1443.45 322.052,1443.8 329.685,1444.07 337.319,1444.28 352.586,1444.59 367.853,1444.81 \n",
       "  383.12,1444.97 398.387,1445.1 416.736,1445.21 435.086,1445.3 453.435,1445.37 471.785,1445.43 502.813,1445.5 533.842,1445.55 601.254,1445.63 663.401,1445.67 \n",
       "  730.03,1445.7 807.226,1445.71 875.829,1445.72 935.987,1445.71 1001.58,1445.7 1067.55,1445.68 1140.5,1445.65 1209.91,1445.61 1282.08,1445.56 1342.83,1445.5 \n",
       "  1417,1445.42 1484.94,1445.32 1547.69,1445.21 1611.26,1445.07 1646.88,1444.98 1682.5,1444.88 1714.77,1444.77 1747.05,1444.65 1784,1444.5 1820.96,1444.32 \n",
       "  1855.18,1444.14 1889.39,1443.93 1923.13,1443.7 1956.86,1443.43 1989.61,1443.14 2022.37,1442.81 2039.15,1442.63 2055.94,1442.43 2072.73,1442.22 2089.52,1442 \n",
       "  2107.91,1441.73 2126.3,1441.45 2144.7,1441.15 2163.09,1440.82 2189.81,1440.31 2216.53,1439.73 2243.25,1439.09 2269.96,1438.38 2275.45,1438.22 2280.93,1438.06 \n",
       "  2286.41,1437.9 2291.89,1437.73 \n",
       "  \"/>\n",
       "<path clip-path=\"url(#clip890)\" d=\"\n",
       "M1989.69 198.898 L2281.07 198.898 L2281.07 95.2176 L1989.69 95.2176  Z\n",
       "  \" fill=\"#ffffff\" fill-rule=\"evenodd\" fill-opacity=\"1\"/>\n",
       "<polyline clip-path=\"url(#clip890)\" style=\"stroke:#000000; stroke-linecap:butt; stroke-linejoin:round; stroke-width:4; stroke-opacity:1; fill:none\" points=\"\n",
       "  1989.69,198.898 2281.07,198.898 2281.07,95.2176 1989.69,95.2176 1989.69,198.898 \n",
       "  \"/>\n",
       "<polyline clip-path=\"url(#clip890)\" style=\"stroke:#009af9; stroke-linecap:butt; stroke-linejoin:round; stroke-width:4; stroke-opacity:1; fill:none\" points=\"\n",
       "  2013.58,147.058 2156.95,147.058 \n",
       "  \"/>\n",
       "<path clip-path=\"url(#clip890)\" d=\"M2194.69 166.745 Q2192.89 171.375 2191.17 172.787 Q2189.46 174.199 2186.59 174.199 L2183.19 174.199 L2183.19 170.634 L2185.69 170.634 Q2187.45 170.634 2188.42 169.8 Q2189.39 168.967 2190.57 165.865 L2191.34 163.921 L2180.85 138.412 L2185.36 138.412 L2193.46 158.689 L2201.57 138.412 L2206.08 138.412 L2194.69 166.745 Z\" fill=\"#000000\" fill-rule=\"evenodd\" fill-opacity=\"1\" /><path clip-path=\"url(#clip890)\" d=\"M2213.37 160.402 L2221.01 160.402 L2221.01 134.037 L2212.7 135.703 L2212.7 131.444 L2220.96 129.778 L2225.64 129.778 L2225.64 160.402 L2233.28 160.402 L2233.28 164.338 L2213.37 164.338 L2213.37 160.402 Z\" fill=\"#000000\" fill-rule=\"evenodd\" fill-opacity=\"1\" /></svg>\n"
      ]
     },
     "metadata": {},
     "output_type": "display_data"
    }
   ],
   "source": [
    "plot(gamma)"
   ]
  },
  {
   "cell_type": "code",
   "execution_count": 46,
   "metadata": {},
   "outputs": [],
   "source": [
    "using Distributions\n"
   ]
  },
  {
   "cell_type": "code",
   "execution_count": 53,
   "metadata": {},
   "outputs": [
    {
     "name": "stderr",
     "output_type": "stream",
     "text": [
      "\u001b[32m\u001b[1m    Updating\u001b[22m\u001b[39m registry at `C:\\Users\\Yoshitaka Sugiura\\.julia\\registries\\General.toml`\n",
      "\u001b[32m\u001b[1m   Resolving\u001b[22m\u001b[39m package versions...\n",
      "\u001b[32m\u001b[1m   Resolving\u001b[22m\u001b[39m package versions...\n",
      "\u001b[32m\u001b[1m   Resolving\u001b[22m\u001b[39m package versions...\n",
      "\u001b[32m\u001b[1m  No Changes\u001b[22m\u001b[39m to `C:\\Users\\Yoshitaka Sugiura\\.julia\\environments\\v1.7\\Project.toml`\n",
      "\u001b[32m\u001b[1m  No Changes\u001b[22m\u001b[39m to `C:\\Users\\Yoshitaka Sugiura\\.julia\\environments\\v1.7\\Manifest.toml`\n",
      "\u001b[32m\u001b[1m   Resolving\u001b[22m\u001b[39m package versions...\n",
      "\u001b[32m\u001b[1m  No Changes\u001b[22m\u001b[39m to `C:\\Users\\Yoshitaka Sugiura\\.julia\\environments\\v1.7\\Project.toml`\n",
      "\u001b[32m\u001b[1m  No Changes\u001b[22m\u001b[39m to `C:\\Users\\Yoshitaka Sugiura\\.julia\\environments\\v1.7\\Manifest.toml`\n"
     ]
    }
   ],
   "source": [
    "using Pkg;Pkg.add(\"StatsPlots\")\n",
    "using StatsPlots"
   ]
  },
  {
   "cell_type": "code",
   "execution_count": 68,
   "metadata": {},
   "outputs": [
    {
     "data": {
      "text/plain": [
       "1×100 adjoint(::Vector{Float64}) with eltype Float64:\n",
       " 5.9357  1.99675  0.7858  0.659751  …  3.63726  0.297841  3.73918  2.98833"
      ]
     },
     "metadata": {},
     "output_type": "display_data"
    }
   ],
   "source": [
    "v=1.5\n",
    "a=2.5\n",
    "\n",
    "d=Gamma(v, a)\n",
    "xx=rand(d,100)\n",
    "xx'"
   ]
  },
  {
   "cell_type": "code",
   "execution_count": 83,
   "metadata": {},
   "outputs": [
    {
     "data": {
      "image/png": "[encoded data removed]",
      "image/svg+xml": "<?xml version=\"1.0\" encoding=\"utf-8\"?>\n<svg xmlns=\"http://www.w3.org/2000/svg\" xmlns:xlink=\"http://www.w3.org/1999/xlink\" width=\"600\" height=\"400\" viewBox=\"0 0 2400 1600\">\n<defs>\n  <clipPath id=\"clip460\">\n    <rect x=\"0\" y=\"0\" width=\"2400\" height=\"1600\"/>\n  </clipPath>\n</defs>\n<path clip-path=\"url(#clip460)\" d=\"\nM0 1600 L2400 1600 L2400 0 L0 0  Z\n  \" fill=\"#ffffff\" fill-rule=\"evenodd\" fill-opacity=\"1\"/>\n<defs>\n  <clipPath id=\"clip461\">\n    <rect x=\"480\" y=\"0\" width=\"1681\" height=\"1600\"/>\n  </clipPath>\n</defs>\n<path clip-path=\"url(#clip460)\" d=\"\nM140.696 1486.45 L2352.76 1486.45 L2352.76 47.2441 L140.696 47.2441  Z\n  \" fill=\"#ffffff\" fill-rule=\"evenodd\" fill-opacity=\"1\"/>\n<defs>\n  <clipPath id=\"clip462\">\n    <rect x=\"140\" y=\"47\" width=\"2213\" height=\"1440\"/>\n  </clipPath>\n</defs>\n<polyline clip-path=\"url(#clip462)\" style=\"stroke:#000000; stroke-linecap:butt; stroke-linejoin:round; stroke-width:2; stroke-opacity:0.1; fill:none\" points=\"\n  262.363,1486.45 262.363,47.2441 \n  \"/>\n<polyline clip-path=\"url(#clip460)\" style=\"stroke:#000000; stroke-linecap:butt; stroke-linejoin:round; stroke-width:4; stroke-opacity:0; fill:none\" points=\"\n  262.363,1486.45 262.363,1467.55 \n  \"/>\n<path clip-path=\"url(#clip460)\" d=\"M262.363 1517.37 Q258.752 1517.37 256.923 1520.93 Q255.117 1524.47 255.117 1531.6 Q255.117 1538.71 256.923 1542.27 Q258.752 1545.82 262.363 1545.82 Q265.997 1545.82 267.803 1542.27 Q269.631 1538.71 269.631 1531.6 Q269.631 1524.47 267.803 1520.93 Q265.997 1517.37 262.363 1517.37 M262.363 1513.66 Q268.173 1513.66 271.228 1518.27 Q274.307 1522.85 274.307 1531.6 Q274.307 1540.33 271.228 1544.94 Q268.173 1549.52 262.363 1549.52 Q256.553 1549.52 253.474 1544.94 Q250.418 1540.33 250.418 1531.6 Q250.418 1522.85 253.474 1518.27 Q256.553 1513.66 262.363 1513.66 Z\" fill=\"#000000\" fill-rule=\"evenodd\" fill-opacity=\"1\" /><polyline clip-path=\"url(#clip462)\" style=\"stroke:#000000; stroke-linecap:butt; stroke-linejoin:round; stroke-width:2; stroke-opacity:0.1; fill:none\" points=\"\n  140.696,1445.72 2352.76,1445.72 \n  \"/>\n<polyline clip-path=\"url(#clip462)\" style=\"stroke:#000000; stroke-linecap:butt; stroke-linejoin:round; stroke-width:2; stroke-opacity:0.1; fill:none\" points=\"\n  140.696,1078.76 2352.76,1078.76 \n  \"/>\n<polyline clip-path=\"url(#clip462)\" style=\"stroke:#000000; stroke-linecap:butt; stroke-linejoin:round; stroke-width:2; stroke-opacity:0.1; fill:none\" points=\"\n  140.696,711.802 2352.76,711.802 \n  \"/>\n<polyline clip-path=\"url(#clip462)\" style=\"stroke:#000000; stroke-linecap:butt; stroke-linejoin:round; stroke-width:2; stroke-opacity:0.1; fill:none\" points=\"\n  140.696,344.846 2352.76,344.846 \n  \"/>\n<polyline clip-path=\"url(#clip460)\" style=\"stroke:#000000; stroke-linecap:butt; stroke-linejoin:round; stroke-width:4; stroke-opacity:0; fill:none\" points=\"\n  140.696,1445.72 159.593,1445.72 \n  \"/>\n<polyline clip-path=\"url(#clip460)\" style=\"stroke:#000000; stroke-linecap:butt; stroke-linejoin:round; stroke-width:4; stroke-opacity:0; fill:none\" points=\"\n  140.696,1078.76 159.593,1078.76 \n  \"/>\n<polyline clip-path=\"url(#clip460)\" style=\"stroke:#000000; stroke-linecap:butt; stroke-linejoin:round; stroke-width:4; stroke-opacity:0; fill:none\" points=\"\n  140.696,711.802 159.593,711.802 \n  \"/>\n<polyline clip-path=\"url(#clip460)\" style=\"stroke:#000000; stroke-linecap:butt; stroke-linejoin:round; stroke-width:4; stroke-opacity:0; fill:none\" points=\"\n  140.696,344.846 159.593,344.846 \n  \"/>\n<path clip-path=\"url(#clip460)\" d=\"M92.7512 1431.51 Q89.1401 1431.51 87.3114 1435.08 Q85.5058 1438.62 85.5058 1445.75 Q85.5058 1452.86 87.3114 1456.42 Q89.1401 1459.96 92.7512 1459.96 Q96.3854 1459.96 98.1909 1456.42 Q100.02 1452.86 100.02 1445.75 Q100.02 1438.62 98.1909 1435.08 Q96.3854 1431.51 92.7512 1431.51 M92.7512 1427.81 Q98.5613 1427.81 101.617 1432.42 Q104.696 1437 104.696 1445.75 Q104.696 1454.48 101.617 1459.08 Q98.5613 1463.67 92.7512 1463.67 Q86.941 1463.67 83.8623 1459.08 Q80.8068 1454.48 80.8068 1445.75 Q80.8068 1437 83.8623 1432.42 Q86.941 1427.81 92.7512 1427.81 Z\" fill=\"#000000\" fill-rule=\"evenodd\" fill-opacity=\"1\" /><path clip-path=\"url(#clip460)\" d=\"M53.3995 1092.1 L61.0384 1092.1 L61.0384 1065.74 L52.7282 1067.4 L52.7282 1063.15 L60.9921 1061.48 L65.668 1061.48 L65.668 1092.1 L73.3068 1092.1 L73.3068 1096.04 L53.3995 1096.04 L53.3995 1092.1 Z\" fill=\"#000000\" fill-rule=\"evenodd\" fill-opacity=\"1\" /><path clip-path=\"url(#clip460)\" d=\"M92.7512 1064.56 Q89.1401 1064.56 87.3114 1068.12 Q85.5058 1071.66 85.5058 1078.79 Q85.5058 1085.9 87.3114 1089.47 Q89.1401 1093.01 92.7512 1093.01 Q96.3854 1093.01 98.1909 1089.47 Q100.02 1085.9 100.02 1078.79 Q100.02 1071.66 98.1909 1068.12 Q96.3854 1064.56 92.7512 1064.56 M92.7512 1060.85 Q98.5613 1060.85 101.617 1065.46 Q104.696 1070.04 104.696 1078.79 Q104.696 1087.52 101.617 1092.13 Q98.5613 1096.71 92.7512 1096.71 Q86.941 1096.71 83.8623 1092.13 Q80.8068 1087.52 80.8068 1078.79 Q80.8068 1070.04 83.8623 1065.46 Q86.941 1060.85 92.7512 1060.85 Z\" fill=\"#000000\" fill-rule=\"evenodd\" fill-opacity=\"1\" /><path clip-path=\"url(#clip460)\" d=\"M56.6171 725.147 L72.9365 725.147 L72.9365 729.082 L50.9921 729.082 L50.9921 725.147 Q53.6541 722.393 58.2375 717.763 Q62.8439 713.11 64.0245 711.768 Q66.2698 709.245 67.1494 707.509 Q68.0522 705.749 68.0522 704.059 Q68.0522 701.305 66.1078 699.569 Q64.1865 697.833 61.0847 697.833 Q58.8856 697.833 56.4319 698.597 Q54.0014 699.36 51.2236 700.911 L51.2236 696.189 Q54.0477 695.055 56.5014 694.476 Q58.955 693.897 60.9921 693.897 Q66.3624 693.897 69.5568 696.583 Q72.7513 699.268 72.7513 703.759 Q72.7513 705.888 71.9411 707.809 Q71.1541 709.708 69.0476 712.3 Q68.4689 712.971 65.367 716.189 Q62.2652 719.383 56.6171 725.147 Z\" fill=\"#000000\" fill-rule=\"evenodd\" fill-opacity=\"1\" /><path clip-path=\"url(#clip460)\" d=\"M92.7512 697.601 Q89.1401 697.601 87.3114 701.166 Q85.5058 704.708 85.5058 711.837 Q85.5058 718.944 87.3114 722.508 Q89.1401 726.05 92.7512 726.05 Q96.3854 726.05 98.1909 722.508 Q100.02 718.944 100.02 711.837 Q100.02 704.708 98.1909 701.166 Q96.3854 697.601 92.7512 697.601 M92.7512 693.897 Q98.5613 693.897 101.617 698.504 Q104.696 703.087 104.696 711.837 Q104.696 720.564 101.617 725.17 Q98.5613 729.754 92.7512 729.754 Q86.941 729.754 83.8623 725.17 Q80.8068 720.564 80.8068 711.837 Q80.8068 703.087 83.8623 698.504 Q86.941 693.897 92.7512 693.897 Z\" fill=\"#000000\" fill-rule=\"evenodd\" fill-opacity=\"1\" /><path clip-path=\"url(#clip460)\" d=\"M66.7559 343.492 Q70.1124 344.209 71.9874 346.478 Q73.8855 348.746 73.8855 352.08 Q73.8855 357.195 70.367 359.996 Q66.8485 362.797 60.3671 362.797 Q58.1912 362.797 55.8764 362.357 Q53.5847 361.941 51.131 361.084 L51.131 356.57 Q53.0754 357.705 55.3903 358.283 Q57.7051 358.862 60.2282 358.862 Q64.6263 358.862 66.918 357.126 Q69.2328 355.39 69.2328 352.08 Q69.2328 349.024 67.08 347.311 Q64.9504 345.575 61.131 345.575 L57.1032 345.575 L57.1032 341.732 L61.3161 341.732 Q64.7652 341.732 66.5939 340.367 Q68.4226 338.978 68.4226 336.385 Q68.4226 333.723 66.5245 332.311 Q64.6495 330.876 61.131 330.876 Q59.2097 330.876 57.0106 331.293 Q54.8115 331.709 52.1727 332.589 L52.1727 328.422 Q54.8347 327.682 57.1495 327.311 Q59.4875 326.941 61.5476 326.941 Q66.8717 326.941 69.9735 329.371 Q73.0753 331.779 73.0753 335.899 Q73.0753 338.77 71.4318 340.76 Q69.7883 342.728 66.7559 343.492 Z\" fill=\"#000000\" fill-rule=\"evenodd\" fill-opacity=\"1\" /><path clip-path=\"url(#clip460)\" d=\"M92.7512 330.645 Q89.1401 330.645 87.3114 334.209 Q85.5058 337.751 85.5058 344.881 Q85.5058 351.987 87.3114 355.552 Q89.1401 359.094 92.7512 359.094 Q96.3854 359.094 98.1909 355.552 Q100.02 351.987 100.02 344.881 Q100.02 337.751 98.1909 334.209 Q96.3854 330.645 92.7512 330.645 M92.7512 326.941 Q98.5613 326.941 101.617 331.547 Q104.696 336.131 104.696 344.881 Q104.696 353.607 101.617 358.214 Q98.5613 362.797 92.7512 362.797 Q86.941 362.797 83.8623 358.214 Q80.8068 353.607 80.8068 344.881 Q80.8068 336.131 83.8623 331.547 Q86.941 326.941 92.7512 326.941 Z\" fill=\"#000000\" fill-rule=\"evenodd\" fill-opacity=\"1\" /><path clip-path=\"url(#clip462)\" d=\"\nM262.363 87.9763 L262.363 1445.72 L508.454 1445.72 L508.454 87.9763 L262.363 87.9763 L262.363 87.9763  Z\n  \" fill=\"#000000\" fill-rule=\"evenodd\" fill-opacity=\"1\"/>\n<polyline clip-path=\"url(#clip462)\" style=\"stroke:#000000; stroke-linecap:butt; stroke-linejoin:round; stroke-width:4; stroke-opacity:1; fill:none\" points=\"\n  262.363,87.9763 262.363,1445.72 508.454,1445.72 508.454,87.9763 262.363,87.9763 \n  \"/>\n<path clip-path=\"url(#clip462)\" d=\"\nM508.454 198.063 L508.454 1445.72 L754.544 1445.72 L754.544 198.063 L508.454 198.063 L508.454 198.063  Z\n  \" fill=\"#000000\" fill-rule=\"evenodd\" fill-opacity=\"1\"/>\n<polyline clip-path=\"url(#clip462)\" style=\"stroke:#000000; stroke-linecap:butt; stroke-linejoin:round; stroke-width:4; stroke-opacity:1; fill:none\" points=\"\n  508.454,198.063 508.454,1445.72 754.544,1445.72 754.544,198.063 508.454,198.063 \n  \"/>\n<path clip-path=\"url(#clip462)\" d=\"\nM754.544 675.107 L754.544 1445.72 L1000.63 1445.72 L1000.63 675.107 L754.544 675.107 L754.544 675.107  Z\n  \" fill=\"#000000\" fill-rule=\"evenodd\" fill-opacity=\"1\"/>\n<polyline clip-path=\"url(#clip462)\" style=\"stroke:#000000; stroke-linecap:butt; stroke-linejoin:round; stroke-width:4; stroke-opacity:1; fill:none\" points=\"\n  754.544,675.107 754.544,1445.72 1000.63,1445.72 1000.63,675.107 754.544,675.107 \n  \"/>\n<path clip-path=\"url(#clip462)\" d=\"\nM1000.63 1372.32 L1000.63 1445.72 L1246.73 1445.72 L1246.73 1372.32 L1000.63 1372.32 L1000.63 1372.32  Z\n  \" fill=\"#000000\" fill-rule=\"evenodd\" fill-opacity=\"1\"/>\n<polyline clip-path=\"url(#clip462)\" style=\"stroke:#000000; stroke-linecap:butt; stroke-linejoin:round; stroke-width:4; stroke-opacity:1; fill:none\" points=\"\n  1000.63,1372.32 1000.63,1445.72 1246.73,1445.72 1246.73,1372.32 1000.63,1372.32 \n  \"/>\n<path clip-path=\"url(#clip462)\" d=\"\nM1246.73 1262.24 L1246.73 1445.72 L1492.82 1445.72 L1492.82 1262.24 L1246.73 1262.24 L1246.73 1262.24  Z\n  \" fill=\"#000000\" fill-rule=\"evenodd\" fill-opacity=\"1\"/>\n<polyline clip-path=\"url(#clip462)\" style=\"stroke:#000000; stroke-linecap:butt; stroke-linejoin:round; stroke-width:4; stroke-opacity:1; fill:none\" points=\"\n  1246.73,1262.24 1246.73,1445.72 1492.82,1445.72 1492.82,1262.24 1246.73,1262.24 \n  \"/>\n<path clip-path=\"url(#clip462)\" d=\"\nM1492.82 1409.02 L1492.82 1445.72 L1738.91 1445.72 L1738.91 1409.02 L1492.82 1409.02 L1492.82 1409.02  Z\n  \" fill=\"#000000\" fill-rule=\"evenodd\" fill-opacity=\"1\"/>\n<polyline clip-path=\"url(#clip462)\" style=\"stroke:#000000; stroke-linecap:butt; stroke-linejoin:round; stroke-width:4; stroke-opacity:1; fill:none\" points=\"\n  1492.82,1409.02 1492.82,1445.72 1738.91,1445.72 1738.91,1409.02 1492.82,1409.02 \n  \"/>\n<path clip-path=\"url(#clip462)\" d=\"\nM1738.91 1445.72 L1738.91 1445.72 L1985 1445.72 L1985 1445.72 L1738.91 1445.72 L1738.91 1445.72  Z\n  \" fill=\"#000000\" fill-rule=\"evenodd\" fill-opacity=\"1\"/>\n<polyline clip-path=\"url(#clip462)\" style=\"stroke:#000000; stroke-linecap:butt; stroke-linejoin:round; stroke-width:4; stroke-opacity:1; fill:none\" points=\"\n  1738.91,1445.72 1738.91,1445.72 1985,1445.72 1738.91,1445.72 \n  \"/>\n<path clip-path=\"url(#clip462)\" d=\"\nM1985 1445.72 L1985 1445.72 L2231.09 1445.72 L2231.09 1445.72 L1985 1445.72 L1985 1445.72  Z\n  \" fill=\"#000000\" fill-rule=\"evenodd\" fill-opacity=\"1\"/>\n<polyline clip-path=\"url(#clip462)\" style=\"stroke:#000000; stroke-linecap:butt; stroke-linejoin:round; stroke-width:4; stroke-opacity:1; fill:none\" points=\"\n  1985,1445.72 1985,1445.72 2231.09,1445.72 1985,1445.72 \n  \"/>\n<circle clip-path=\"url(#clip462)\" style=\"fill:#009af9; stroke:none; fill-opacity:0\" cx=\"385.408\" cy=\"87.9763\" r=\"2\"/>\n<circle clip-path=\"url(#clip462)\" style=\"fill:#009af9; stroke:none; fill-opacity:0\" cx=\"631.499\" cy=\"198.063\" r=\"2\"/>\n<circle clip-path=\"url(#clip462)\" style=\"fill:#009af9; stroke:none; fill-opacity:0\" cx=\"877.59\" cy=\"675.107\" r=\"2\"/>\n<circle clip-path=\"url(#clip462)\" style=\"fill:#009af9; stroke:none; fill-opacity:0\" cx=\"1123.68\" cy=\"1372.32\" r=\"2\"/>\n<circle clip-path=\"url(#clip462)\" style=\"fill:#009af9; stroke:none; fill-opacity:0\" cx=\"1369.77\" cy=\"1262.24\" r=\"2\"/>\n<circle clip-path=\"url(#clip462)\" style=\"fill:#009af9; stroke:none; fill-opacity:0\" cx=\"1615.86\" cy=\"1409.02\" r=\"2\"/>\n<circle clip-path=\"url(#clip462)\" style=\"fill:#009af9; stroke:none; fill-opacity:0\" cx=\"1861.95\" cy=\"1445.72\" r=\"2\"/>\n<circle clip-path=\"url(#clip462)\" style=\"fill:#009af9; stroke:none; fill-opacity:0\" cx=\"2108.04\" cy=\"1445.72\" r=\"2\"/>\n<path clip-path=\"url(#clip460)\" d=\"\nM1980.81 198.898 L2279.02 198.898 L2279.02 95.2176 L1980.81 95.2176  Z\n  \" fill=\"#ffffff\" fill-rule=\"evenodd\" fill-opacity=\"1\"/>\n<polyline clip-path=\"url(#clip460)\" style=\"stroke:#000000; stroke-linecap:butt; stroke-linejoin:round; stroke-width:4; stroke-opacity:1; fill:none\" points=\"\n  1980.81,198.898 2279.02,198.898 2279.02,95.2176 1980.81,95.2176 1980.81,198.898 \n  \"/>\n<path clip-path=\"url(#clip460)\" d=\"\nM2005.38 167.794 L2152.85 167.794 L2152.85 126.322 L2005.38 126.322 L2005.38 167.794  Z\n  \" fill=\"#000000\" fill-rule=\"evenodd\" fill-opacity=\"1\"/>\n<polyline clip-path=\"url(#clip460)\" style=\"stroke:#000000; stroke-linecap:butt; stroke-linejoin:round; stroke-width:4; stroke-opacity:1; fill:none\" points=\"\n  2005.38,167.794 2152.85,167.794 2152.85,126.322 2005.38,126.322 2005.38,167.794 \n  \"/>\n<path clip-path=\"url(#clip460)\" d=\"M2191.28 166.745 Q2189.47 171.375 2187.76 172.787 Q2186.04 174.199 2183.17 174.199 L2179.77 174.199 L2179.77 170.634 L2182.27 170.634 Q2184.03 170.634 2185 169.8 Q2185.98 168.967 2187.16 165.865 L2187.92 163.921 L2177.43 138.412 L2181.95 138.412 L2190.05 158.689 L2198.15 138.412 L2202.66 138.412 L2191.28 166.745 Z\" fill=\"#000000\" fill-rule=\"evenodd\" fill-opacity=\"1\" /><path clip-path=\"url(#clip460)\" d=\"M2209.96 160.402 L2217.6 160.402 L2217.6 134.037 L2209.29 135.703 L2209.29 131.444 L2217.55 129.778 L2222.22 129.778 L2222.22 160.402 L2229.86 160.402 L2229.86 164.338 L2209.96 164.338 L2209.96 160.402 Z\" fill=\"#000000\" fill-rule=\"evenodd\" fill-opacity=\"1\" /></svg>\n",
      "text/html": [
       "<?xml version=\"1.0\" encoding=\"utf-8\"?>\n",
       "<svg xmlns=\"http://www.w3.org/2000/svg\" xmlns:xlink=\"http://www.w3.org/1999/xlink\" width=\"600\" height=\"400\" viewBox=\"0 0 2400 1600\">\n",
       "<defs>\n",
       "  <clipPath id=\"clip510\">\n",
       "    <rect x=\"0\" y=\"0\" width=\"2400\" height=\"1600\"/>\n",
       "  </clipPath>\n",
       "</defs>\n",
       "<path clip-path=\"url(#clip510)\" d=\"\n",
       "M0 1600 L2400 1600 L2400 0 L0 0  Z\n",
       "  \" fill=\"#ffffff\" fill-rule=\"evenodd\" fill-opacity=\"1\"/>\n",
       "<defs>\n",
       "  <clipPath id=\"clip511\">\n",
       "    <rect x=\"480\" y=\"0\" width=\"1681\" height=\"1600\"/>\n",
       "  </clipPath>\n",
       "</defs>\n",
       "<path clip-path=\"url(#clip510)\" d=\"\n",
       "M140.696 1486.45 L2352.76 1486.45 L2352.76 47.2441 L140.696 47.2441  Z\n",
       "  \" fill=\"#ffffff\" fill-rule=\"evenodd\" fill-opacity=\"1\"/>\n",
       "<defs>\n",
       "  <clipPath id=\"clip512\">\n",
       "    <rect x=\"140\" y=\"47\" width=\"2213\" height=\"1440\"/>\n",
       "  </clipPath>\n",
       "</defs>\n",
       "<polyline clip-path=\"url(#clip512)\" style=\"stroke:#000000; stroke-linecap:butt; stroke-linejoin:round; stroke-width:2; stroke-opacity:0.1; fill:none\" points=\"\n",
       "  262.363,1486.45 262.363,47.2441 \n",
       "  \"/>\n",
       "<polyline clip-path=\"url(#clip510)\" style=\"stroke:#000000; stroke-linecap:butt; stroke-linejoin:round; stroke-width:4; stroke-opacity:0; fill:none\" points=\"\n",
       "  262.363,1486.45 262.363,1467.55 \n",
       "  \"/>\n",
       "<path clip-path=\"url(#clip510)\" d=\"M262.363 1517.37 Q258.752 1517.37 256.923 1520.93 Q255.117 1524.47 255.117 1531.6 Q255.117 1538.71 256.923 1542.27 Q258.752 1545.82 262.363 1545.82 Q265.997 1545.82 267.803 1542.27 Q269.631 1538.71 269.631 1531.6 Q269.631 1524.47 267.803 1520.93 Q265.997 1517.37 262.363 1517.37 M262.363 1513.66 Q268.173 1513.66 271.228 1518.27 Q274.307 1522.85 274.307 1531.6 Q274.307 1540.33 271.228 1544.94 Q268.173 1549.52 262.363 1549.52 Q256.553 1549.52 253.474 1544.94 Q250.418 1540.33 250.418 1531.6 Q250.418 1522.85 253.474 1518.27 Q256.553 1513.66 262.363 1513.66 Z\" fill=\"#000000\" fill-rule=\"evenodd\" fill-opacity=\"1\" /><polyline clip-path=\"url(#clip512)\" style=\"stroke:#000000; stroke-linecap:butt; stroke-linejoin:round; stroke-width:2; stroke-opacity:0.1; fill:none\" points=\"\n",
       "  140.696,1445.72 2352.76,1445.72 \n",
       "  \"/>\n",
       "<polyline clip-path=\"url(#clip512)\" style=\"stroke:#000000; stroke-linecap:butt; stroke-linejoin:round; stroke-width:2; stroke-opacity:0.1; fill:none\" points=\"\n",
       "  140.696,1078.76 2352.76,1078.76 \n",
       "  \"/>\n",
       "<polyline clip-path=\"url(#clip512)\" style=\"stroke:#000000; stroke-linecap:butt; stroke-linejoin:round; stroke-width:2; stroke-opacity:0.1; fill:none\" points=\"\n",
       "  140.696,711.802 2352.76,711.802 \n",
       "  \"/>\n",
       "<polyline clip-path=\"url(#clip512)\" style=\"stroke:#000000; stroke-linecap:butt; stroke-linejoin:round; stroke-width:2; stroke-opacity:0.1; fill:none\" points=\"\n",
       "  140.696,344.846 2352.76,344.846 \n",
       "  \"/>\n",
       "<polyline clip-path=\"url(#clip510)\" style=\"stroke:#000000; stroke-linecap:butt; stroke-linejoin:round; stroke-width:4; stroke-opacity:0; fill:none\" points=\"\n",
       "  140.696,1445.72 159.593,1445.72 \n",
       "  \"/>\n",
       "<polyline clip-path=\"url(#clip510)\" style=\"stroke:#000000; stroke-linecap:butt; stroke-linejoin:round; stroke-width:4; stroke-opacity:0; fill:none\" points=\"\n",
       "  140.696,1078.76 159.593,1078.76 \n",
       "  \"/>\n",
       "<polyline clip-path=\"url(#clip510)\" style=\"stroke:#000000; stroke-linecap:butt; stroke-linejoin:round; stroke-width:4; stroke-opacity:0; fill:none\" points=\"\n",
       "  140.696,711.802 159.593,711.802 \n",
       "  \"/>\n",
       "<polyline clip-path=\"url(#clip510)\" style=\"stroke:#000000; stroke-linecap:butt; stroke-linejoin:round; stroke-width:4; stroke-opacity:0; fill:none\" points=\"\n",
       "  140.696,344.846 159.593,344.846 \n",
       "  \"/>\n",
       "<path clip-path=\"url(#clip510)\" d=\"M92.7512 1431.51 Q89.1401 1431.51 87.3114 1435.08 Q85.5058 1438.62 85.5058 1445.75 Q85.5058 1452.86 87.3114 1456.42 Q89.1401 1459.96 92.7512 1459.96 Q96.3854 1459.96 98.1909 1456.42 Q100.02 1452.86 100.02 1445.75 Q100.02 1438.62 98.1909 1435.08 Q96.3854 1431.51 92.7512 1431.51 M92.7512 1427.81 Q98.5613 1427.81 101.617 1432.42 Q104.696 1437 104.696 1445.75 Q104.696 1454.48 101.617 1459.08 Q98.5613 1463.67 92.7512 1463.67 Q86.941 1463.67 83.8623 1459.08 Q80.8068 1454.48 80.8068 1445.75 Q80.8068 1437 83.8623 1432.42 Q86.941 1427.81 92.7512 1427.81 Z\" fill=\"#000000\" fill-rule=\"evenodd\" fill-opacity=\"1\" /><path clip-path=\"url(#clip510)\" d=\"M53.3995 1092.1 L61.0384 1092.1 L61.0384 1065.74 L52.7282 1067.4 L52.7282 1063.15 L60.9921 1061.48 L65.668 1061.48 L65.668 1092.1 L73.3068 1092.1 L73.3068 1096.04 L53.3995 1096.04 L53.3995 1092.1 Z\" fill=\"#000000\" fill-rule=\"evenodd\" fill-opacity=\"1\" /><path clip-path=\"url(#clip510)\" d=\"M92.7512 1064.56 Q89.1401 1064.56 87.3114 1068.12 Q85.5058 1071.66 85.5058 1078.79 Q85.5058 1085.9 87.3114 1089.47 Q89.1401 1093.01 92.7512 1093.01 Q96.3854 1093.01 98.1909 1089.47 Q100.02 1085.9 100.02 1078.79 Q100.02 1071.66 98.1909 1068.12 Q96.3854 1064.56 92.7512 1064.56 M92.7512 1060.85 Q98.5613 1060.85 101.617 1065.46 Q104.696 1070.04 104.696 1078.79 Q104.696 1087.52 101.617 1092.13 Q98.5613 1096.71 92.7512 1096.71 Q86.941 1096.71 83.8623 1092.13 Q80.8068 1087.52 80.8068 1078.79 Q80.8068 1070.04 83.8623 1065.46 Q86.941 1060.85 92.7512 1060.85 Z\" fill=\"#000000\" fill-rule=\"evenodd\" fill-opacity=\"1\" /><path clip-path=\"url(#clip510)\" d=\"M56.6171 725.147 L72.9365 725.147 L72.9365 729.082 L50.9921 729.082 L50.9921 725.147 Q53.6541 722.393 58.2375 717.763 Q62.8439 713.11 64.0245 711.768 Q66.2698 709.245 67.1494 707.509 Q68.0522 705.749 68.0522 704.059 Q68.0522 701.305 66.1078 699.569 Q64.1865 697.833 61.0847 697.833 Q58.8856 697.833 56.4319 698.597 Q54.0014 699.36 51.2236 700.911 L51.2236 696.189 Q54.0477 695.055 56.5014 694.476 Q58.955 693.897 60.9921 693.897 Q66.3624 693.897 69.5568 696.583 Q72.7513 699.268 72.7513 703.759 Q72.7513 705.888 71.9411 707.809 Q71.1541 709.708 69.0476 712.3 Q68.4689 712.971 65.367 716.189 Q62.2652 719.383 56.6171 725.147 Z\" fill=\"#000000\" fill-rule=\"evenodd\" fill-opacity=\"1\" /><path clip-path=\"url(#clip510)\" d=\"M92.7512 697.601 Q89.1401 697.601 87.3114 701.166 Q85.5058 704.708 85.5058 711.837 Q85.5058 718.944 87.3114 722.508 Q89.1401 726.05 92.7512 726.05 Q96.3854 726.05 98.1909 722.508 Q100.02 718.944 100.02 711.837 Q100.02 704.708 98.1909 701.166 Q96.3854 697.601 92.7512 697.601 M92.7512 693.897 Q98.5613 693.897 101.617 698.504 Q104.696 703.087 104.696 711.837 Q104.696 720.564 101.617 725.17 Q98.5613 729.754 92.7512 729.754 Q86.941 729.754 83.8623 725.17 Q80.8068 720.564 80.8068 711.837 Q80.8068 703.087 83.8623 698.504 Q86.941 693.897 92.7512 693.897 Z\" fill=\"#000000\" fill-rule=\"evenodd\" fill-opacity=\"1\" /><path clip-path=\"url(#clip510)\" d=\"M66.7559 343.492 Q70.1124 344.209 71.9874 346.478 Q73.8855 348.746 73.8855 352.08 Q73.8855 357.195 70.367 359.996 Q66.8485 362.797 60.3671 362.797 Q58.1912 362.797 55.8764 362.357 Q53.5847 361.941 51.131 361.084 L51.131 356.57 Q53.0754 357.705 55.3903 358.283 Q57.7051 358.862 60.2282 358.862 Q64.6263 358.862 66.918 357.126 Q69.2328 355.39 69.2328 352.08 Q69.2328 349.024 67.08 347.311 Q64.9504 345.575 61.131 345.575 L57.1032 345.575 L57.1032 341.732 L61.3161 341.732 Q64.7652 341.732 66.5939 340.367 Q68.4226 338.978 68.4226 336.385 Q68.4226 333.723 66.5245 332.311 Q64.6495 330.876 61.131 330.876 Q59.2097 330.876 57.0106 331.293 Q54.8115 331.709 52.1727 332.589 L52.1727 328.422 Q54.8347 327.682 57.1495 327.311 Q59.4875 326.941 61.5476 326.941 Q66.8717 326.941 69.9735 329.371 Q73.0753 331.779 73.0753 335.899 Q73.0753 338.77 71.4318 340.76 Q69.7883 342.728 66.7559 343.492 Z\" fill=\"#000000\" fill-rule=\"evenodd\" fill-opacity=\"1\" /><path clip-path=\"url(#clip510)\" d=\"M92.7512 330.645 Q89.1401 330.645 87.3114 334.209 Q85.5058 337.751 85.5058 344.881 Q85.5058 351.987 87.3114 355.552 Q89.1401 359.094 92.7512 359.094 Q96.3854 359.094 98.1909 355.552 Q100.02 351.987 100.02 344.881 Q100.02 337.751 98.1909 334.209 Q96.3854 330.645 92.7512 330.645 M92.7512 326.941 Q98.5613 326.941 101.617 331.547 Q104.696 336.131 104.696 344.881 Q104.696 353.607 101.617 358.214 Q98.5613 362.797 92.7512 362.797 Q86.941 362.797 83.8623 358.214 Q80.8068 353.607 80.8068 344.881 Q80.8068 336.131 83.8623 331.547 Q86.941 326.941 92.7512 326.941 Z\" fill=\"#000000\" fill-rule=\"evenodd\" fill-opacity=\"1\" /><path clip-path=\"url(#clip512)\" d=\"\n",
       "M262.363 87.9763 L262.363 1445.72 L508.454 1445.72 L508.454 87.9763 L262.363 87.9763 L262.363 87.9763  Z\n",
       "  \" fill=\"#000000\" fill-rule=\"evenodd\" fill-opacity=\"1\"/>\n",
       "<polyline clip-path=\"url(#clip512)\" style=\"stroke:#000000; stroke-linecap:butt; stroke-linejoin:round; stroke-width:4; stroke-opacity:1; fill:none\" points=\"\n",
       "  262.363,87.9763 262.363,1445.72 508.454,1445.72 508.454,87.9763 262.363,87.9763 \n",
       "  \"/>\n",
       "<path clip-path=\"url(#clip512)\" d=\"\n",
       "M508.454 198.063 L508.454 1445.72 L754.544 1445.72 L754.544 198.063 L508.454 198.063 L508.454 198.063  Z\n",
       "  \" fill=\"#000000\" fill-rule=\"evenodd\" fill-opacity=\"1\"/>\n",
       "<polyline clip-path=\"url(#clip512)\" style=\"stroke:#000000; stroke-linecap:butt; stroke-linejoin:round; stroke-width:4; stroke-opacity:1; fill:none\" points=\"\n",
       "  508.454,198.063 508.454,1445.72 754.544,1445.72 754.544,198.063 508.454,198.063 \n",
       "  \"/>\n",
       "<path clip-path=\"url(#clip512)\" d=\"\n",
       "M754.544 675.107 L754.544 1445.72 L1000.63 1445.72 L1000.63 675.107 L754.544 675.107 L754.544 675.107  Z\n",
       "  \" fill=\"#000000\" fill-rule=\"evenodd\" fill-opacity=\"1\"/>\n",
       "<polyline clip-path=\"url(#clip512)\" style=\"stroke:#000000; stroke-linecap:butt; stroke-linejoin:round; stroke-width:4; stroke-opacity:1; fill:none\" points=\"\n",
       "  754.544,675.107 754.544,1445.72 1000.63,1445.72 1000.63,675.107 754.544,675.107 \n",
       "  \"/>\n",
       "<path clip-path=\"url(#clip512)\" d=\"\n",
       "M1000.63 1372.32 L1000.63 1445.72 L1246.73 1445.72 L1246.73 1372.32 L1000.63 1372.32 L1000.63 1372.32  Z\n",
       "  \" fill=\"#000000\" fill-rule=\"evenodd\" fill-opacity=\"1\"/>\n",
       "<polyline clip-path=\"url(#clip512)\" style=\"stroke:#000000; stroke-linecap:butt; stroke-linejoin:round; stroke-width:4; stroke-opacity:1; fill:none\" points=\"\n",
       "  1000.63,1372.32 1000.63,1445.72 1246.73,1445.72 1246.73,1372.32 1000.63,1372.32 \n",
       "  \"/>\n",
       "<path clip-path=\"url(#clip512)\" d=\"\n",
       "M1246.73 1262.24 L1246.73 1445.72 L1492.82 1445.72 L1492.82 1262.24 L1246.73 1262.24 L1246.73 1262.24  Z\n",
       "  \" fill=\"#000000\" fill-rule=\"evenodd\" fill-opacity=\"1\"/>\n",
       "<polyline clip-path=\"url(#clip512)\" style=\"stroke:#000000; stroke-linecap:butt; stroke-linejoin:round; stroke-width:4; stroke-opacity:1; fill:none\" points=\"\n",
       "  1246.73,1262.24 1246.73,1445.72 1492.82,1445.72 1492.82,1262.24 1246.73,1262.24 \n",
       "  \"/>\n",
       "<path clip-path=\"url(#clip512)\" d=\"\n",
       "M1492.82 1409.02 L1492.82 1445.72 L1738.91 1445.72 L1738.91 1409.02 L1492.82 1409.02 L1492.82 1409.02  Z\n",
       "  \" fill=\"#000000\" fill-rule=\"evenodd\" fill-opacity=\"1\"/>\n",
       "<polyline clip-path=\"url(#clip512)\" style=\"stroke:#000000; stroke-linecap:butt; stroke-linejoin:round; stroke-width:4; stroke-opacity:1; fill:none\" points=\"\n",
       "  1492.82,1409.02 1492.82,1445.72 1738.91,1445.72 1738.91,1409.02 1492.82,1409.02 \n",
       "  \"/>\n",
       "<path clip-path=\"url(#clip512)\" d=\"\n",
       "M1738.91 1445.72 L1738.91 1445.72 L1985 1445.72 L1985 1445.72 L1738.91 1445.72 L1738.91 1445.72  Z\n",
       "  \" fill=\"#000000\" fill-rule=\"evenodd\" fill-opacity=\"1\"/>\n",
       "<polyline clip-path=\"url(#clip512)\" style=\"stroke:#000000; stroke-linecap:butt; stroke-linejoin:round; stroke-width:4; stroke-opacity:1; fill:none\" points=\"\n",
       "  1738.91,1445.72 1738.91,1445.72 1985,1445.72 1738.91,1445.72 \n",
       "  \"/>\n",
       "<path clip-path=\"url(#clip512)\" d=\"\n",
       "M1985 1445.72 L1985 1445.72 L2231.09 1445.72 L2231.09 1445.72 L1985 1445.72 L1985 1445.72  Z\n",
       "  \" fill=\"#000000\" fill-rule=\"evenodd\" fill-opacity=\"1\"/>\n",
       "<polyline clip-path=\"url(#clip512)\" style=\"stroke:#000000; stroke-linecap:butt; stroke-linejoin:round; stroke-width:4; stroke-opacity:1; fill:none\" points=\"\n",
       "  1985,1445.72 1985,1445.72 2231.09,1445.72 1985,1445.72 \n",
       "  \"/>\n",
       "<circle clip-path=\"url(#clip512)\" style=\"fill:#009af9; stroke:none; fill-opacity:0\" cx=\"385.408\" cy=\"87.9763\" r=\"2\"/>\n",
       "<circle clip-path=\"url(#clip512)\" style=\"fill:#009af9; stroke:none; fill-opacity:0\" cx=\"631.499\" cy=\"198.063\" r=\"2\"/>\n",
       "<circle clip-path=\"url(#clip512)\" style=\"fill:#009af9; stroke:none; fill-opacity:0\" cx=\"877.59\" cy=\"675.107\" r=\"2\"/>\n",
       "<circle clip-path=\"url(#clip512)\" style=\"fill:#009af9; stroke:none; fill-opacity:0\" cx=\"1123.68\" cy=\"1372.32\" r=\"2\"/>\n",
       "<circle clip-path=\"url(#clip512)\" style=\"fill:#009af9; stroke:none; fill-opacity:0\" cx=\"1369.77\" cy=\"1262.24\" r=\"2\"/>\n",
       "<circle clip-path=\"url(#clip512)\" style=\"fill:#009af9; stroke:none; fill-opacity:0\" cx=\"1615.86\" cy=\"1409.02\" r=\"2\"/>\n",
       "<circle clip-path=\"url(#clip512)\" style=\"fill:#009af9; stroke:none; fill-opacity:0\" cx=\"1861.95\" cy=\"1445.72\" r=\"2\"/>\n",
       "<circle clip-path=\"url(#clip512)\" style=\"fill:#009af9; stroke:none; fill-opacity:0\" cx=\"2108.04\" cy=\"1445.72\" r=\"2\"/>\n",
       "<path clip-path=\"url(#clip510)\" d=\"\n",
       "M1980.81 198.898 L2279.02 198.898 L2279.02 95.2176 L1980.81 95.2176  Z\n",
       "  \" fill=\"#ffffff\" fill-rule=\"evenodd\" fill-opacity=\"1\"/>\n",
       "<polyline clip-path=\"url(#clip510)\" style=\"stroke:#000000; stroke-linecap:butt; stroke-linejoin:round; stroke-width:4; stroke-opacity:1; fill:none\" points=\"\n",
       "  1980.81,198.898 2279.02,198.898 2279.02,95.2176 1980.81,95.2176 1980.81,198.898 \n",
       "  \"/>\n",
       "<path clip-path=\"url(#clip510)\" d=\"\n",
       "M2005.38 167.794 L2152.85 167.794 L2152.85 126.322 L2005.38 126.322 L2005.38 167.794  Z\n",
       "  \" fill=\"#000000\" fill-rule=\"evenodd\" fill-opacity=\"1\"/>\n",
       "<polyline clip-path=\"url(#clip510)\" style=\"stroke:#000000; stroke-linecap:butt; stroke-linejoin:round; stroke-width:4; stroke-opacity:1; fill:none\" points=\"\n",
       "  2005.38,167.794 2152.85,167.794 2152.85,126.322 2005.38,126.322 2005.38,167.794 \n",
       "  \"/>\n",
       "<path clip-path=\"url(#clip510)\" d=\"M2191.28 166.745 Q2189.47 171.375 2187.76 172.787 Q2186.04 174.199 2183.17 174.199 L2179.77 174.199 L2179.77 170.634 L2182.27 170.634 Q2184.03 170.634 2185 169.8 Q2185.98 168.967 2187.16 165.865 L2187.92 163.921 L2177.43 138.412 L2181.95 138.412 L2190.05 158.689 L2198.15 138.412 L2202.66 138.412 L2191.28 166.745 Z\" fill=\"#000000\" fill-rule=\"evenodd\" fill-opacity=\"1\" /><path clip-path=\"url(#clip510)\" d=\"M2209.96 160.402 L2217.6 160.402 L2217.6 134.037 L2209.29 135.703 L2209.29 131.444 L2217.55 129.778 L2222.22 129.778 L2222.22 160.402 L2229.86 160.402 L2229.86 164.338 L2209.96 164.338 L2209.96 160.402 Z\" fill=\"#000000\" fill-rule=\"evenodd\" fill-opacity=\"1\" /></svg>\n"
      ]
     },
     "metadata": {},
     "output_type": "display_data"
    }
   ],
   "source": [
    "plot(xx,fc=:black,st=:histogram,bins=range(0,20,step=2.5),framestyle=:grid,xticks=0:20:0.5)"
   ]
  },
  {
   "cell_type": "code",
   "execution_count": null,
   "metadata": {},
   "outputs": [],
   "source": [
    "v=100\n",
    "a=1/5\n",
    "\n",
    "d=Gamma(v, a)\n",
    "xx=rand(d,100)\n",
    "xx'"
   ]
  },
  {
   "cell_type": "code",
   "execution_count": 87,
   "metadata": {},
   "outputs": [
    {
     "data": {
      "text/plain": [
       "2-element Vector{Int64}:\n",
       " -1\n",
       "  1"
      ]
     },
     "metadata": {},
     "output_type": "display_data"
    }
   ],
   "source": [
    "[1 2;3 4]*[3,-2]"
   ]
  },
  {
   "cell_type": "code",
   "execution_count": 92,
   "metadata": {},
   "outputs": [
    {
     "data": {
      "text/plain": [
       "2×2 Matrix{Float64}:\n",
       " 1.0  0.0\n",
       " 0.0  1.0"
      ]
     },
     "metadata": {},
     "output_type": "display_data"
    }
   ],
   "source": [
    "A=Rational{Int}[1 2;3 4]\n",
    "A*[-2 1;1.5 -0.5]"
   ]
  },
  {
   "cell_type": "code",
   "execution_count": 94,
   "metadata": {},
   "outputs": [
    {
     "data": {
      "text/plain": [
       "2×2 Matrix{Rational{Int64}}:\n",
       " -2//1   1//1\n",
       "  3//2  -1//2"
      ]
     },
     "metadata": {},
     "output_type": "display_data"
    }
   ],
   "source": [
    "B=inv(A)"
   ]
  },
  {
   "cell_type": "code",
   "execution_count": 95,
   "metadata": {},
   "outputs": [
    {
     "data": {
      "text/plain": [
       "2-element Vector{Rational{Int64}}:\n",
       "  3//1\n",
       " -2//1"
      ]
     },
     "metadata": {},
     "output_type": "display_data"
    }
   ],
   "source": [
    "B*[-1,1]"
   ]
  },
  {
   "cell_type": "code",
   "execution_count": 97,
   "metadata": {},
   "outputs": [
    {
     "data": {
      "text/plain": [
       "3-element Vector{Rational{Int64}}:\n",
       "  1//1\n",
       " -1//1\n",
       "  2//1"
      ]
     },
     "metadata": {},
     "output_type": "display_data"
    }
   ],
   "source": [
    "AA=Rational{Int}[1 2 -1;1 0 2;-1 1 -3]\n",
    "Aa=Rational{Int}[-3,5,-8]\n",
    "BB=inv(AA)\n",
    "BB*Aa"
   ]
  },
  {
   "cell_type": "code",
   "execution_count": 101,
   "metadata": {},
   "outputs": [
    {
     "data": {
      "text/plain": [
       "10"
      ]
     },
     "metadata": {},
     "output_type": "display_data"
    }
   ],
   "source": [
    "binomial(10,9)"
   ]
  },
  {
   "cell_type": "code",
   "execution_count": 106,
   "metadata": {},
   "outputs": [
    {
     "data": {
      "text/plain": [
       "3×4 Matrix{Int64}:\n",
       " 1  1  1  1\n",
       " 1  1  1  1\n",
       " 1  1  1  1"
      ]
     },
     "metadata": {},
     "output_type": "display_data"
    }
   ],
   "source": [
    "repeat([1],3,4)"
   ]
  },
  {
   "cell_type": "code",
   "execution_count": 109,
   "metadata": {},
   "outputs": [
    {
     "data": {
      "text/plain": [
       "5×5 Matrix{Int64}:\n",
       " 0  0  0  0  0\n",
       " 0  0  0  0  0\n",
       " 0  0  0  0  0\n",
       " 0  0  0  0  0\n",
       " 0  0  0  0  0"
      ]
     },
     "metadata": {},
     "output_type": "display_data"
    }
   ],
   "source": [
    "zeros(Int64,5,5)"
   ]
  },
  {
   "cell_type": "code",
   "execution_count": 110,
   "metadata": {},
   "outputs": [
    {
     "data": {
      "text/plain": [
       "1×6 Matrix{Int64}:\n",
       " 10  10  20  20  30  30"
      ]
     },
     "metadata": {},
     "output_type": "display_data"
    }
   ],
   "source": [
    "repeat([10 20 30], inner=(1,2))"
   ]
  },
  {
   "cell_type": "code",
   "execution_count": 115,
   "metadata": {},
   "outputs": [
    {
     "data": {
      "text/plain": [
       "1×3×2 Array{Int64, 3}:\n",
       "[:, :, 1] =\n",
       " 10  20  30\n",
       "\n",
       "[:, :, 2] =\n",
       " 10  20  30"
      ]
     },
     "metadata": {},
     "output_type": "display_data"
    }
   ],
   "source": [
    "repeat([10 20 30], inner=(1,1,2))"
   ]
  },
  {
   "cell_type": "code",
   "execution_count": 117,
   "metadata": {},
   "outputs": [
    {
     "data": {
      "text/plain": [
       "\"c:\\\\Users\\\\Yoshitaka Sugiura\\\\.julia\\\\environments\\\\v1.7\\\\Julia言語で入門するプログラミング\""
      ]
     },
     "metadata": {},
     "output_type": "display_data"
    }
   ],
   "source": [
    "pwd()"
   ]
  }
 ],
 "metadata": {
  "kernelspec": {
   "display_name": "Julia 1.7.2",
   "language": "julia",
   "name": "julia-1.7"
  },
  "language_info": {
   "file_extension": ".jl",
   "mimetype": "application/julia",
   "name": "julia",
   "version": "1.7.2"
  },
  "orig_nbformat": 4
 },
 "nbformat": 4,
 "nbformat_minor": 2
}
